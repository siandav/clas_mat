{
 "cells": [
  {
   "cell_type": "markdown",
   "id": "0b9ec620",
   "metadata": {},
   "source": [
    "## Wrangling parks data\n",
    "\n",
    "### Goals of the Task\n",
    "\n",
    "\n",
    "The parks and recreation data consists of two data sets. \n",
    "\n",
    "- The smaller data set contains address, longitude and latitude for Seattle parks (each row is a park). \n",
    "- The second data set (features) indicates which facilities a park has (each row is a facility in a park) such as picnic areas, basketball courts and football pitches. \n",
    "\n",
    "The aim of this task is to combine and reshape the data into a wide rather than long frame where each row is a park, and there is a Boolean column for each feature type. "
   ]
  },
  {
   "cell_type": "markdown",
   "id": "6cf34383",
   "metadata": {},
   "source": [
    "#### Step 1 : use pandas to read the two parks & recreation files as data frames\n",
    "- import pandas as pd \n",
    "- use pandas read_csv to create a parks data frame and a facilities data frame \n",
    "- ensure you are pointing at the correct file path for the data source (you may have to navigate in your notebook!) \n"
   ]
  },
  {
   "cell_type": "code",
   "execution_count": null,
   "id": "ab71c105",
   "metadata": {},
   "outputs": [],
   "source": []
  },
  {
   "cell_type": "code",
   "execution_count": null,
   "id": "b48b8544",
   "metadata": {},
   "outputs": [],
   "source": []
  },
  {
   "cell_type": "code",
   "execution_count": null,
   "id": "530310ae",
   "metadata": {},
   "outputs": [],
   "source": []
  },
  {
   "cell_type": "markdown",
   "id": "6cb9cd6f",
   "metadata": {},
   "source": [
    "#### Step 2 : reformat the column headers in lower case \n",
    "\n",
    "the data sets have some inconsistencies in the header case on columns so this should be fixed using the str.lower() method. \n",
    "\n",
    "df.columns = df.columns.str.lower() function "
   ]
  },
  {
   "cell_type": "code",
   "execution_count": null,
   "id": "88fbd93e",
   "metadata": {},
   "outputs": [],
   "source": []
  },
  {
   "cell_type": "code",
   "execution_count": null,
   "id": "4343760a",
   "metadata": {},
   "outputs": [],
   "source": []
  },
  {
   "cell_type": "code",
   "execution_count": null,
   "id": "f4212cf9",
   "metadata": {},
   "outputs": [],
   "source": []
  },
  {
   "cell_type": "markdown",
   "id": "fd0830c5",
   "metadata": {},
   "source": [
    "#### Step 3 : join the data frames together \n",
    "\n",
    "use the pandas merge method to combine the two data frames into a new single data frame, using the pmaid column as the merge key. \n",
    "\n",
    "https://www.geeksforgeeks.org/merge-two-pandas-dataframes-by-matched-id-number/ "
   ]
  },
  {
   "cell_type": "code",
   "execution_count": null,
   "id": "f6ee75ae",
   "metadata": {},
   "outputs": [],
   "source": []
  },
  {
   "cell_type": "code",
   "execution_count": null,
   "id": "f8937659",
   "metadata": {},
   "outputs": [],
   "source": []
  },
  {
   "cell_type": "code",
   "execution_count": null,
   "id": "6403d284",
   "metadata": {},
   "outputs": [],
   "source": []
  },
  {
   "cell_type": "markdown",
   "id": "d3a96f89",
   "metadata": {},
   "source": [
    "#### step 4: drop unneccesary columns\n",
    "\n",
    "the columns we want to keep in the resulting data frame are \n",
    "\n",
    "- zip code\n",
    "- x and y coords \n",
    "- location id \n",
    "- park name \n",
    "- feature description \n",
    "\n",
    "drop all remaining columns"
   ]
  },
  {
   "cell_type": "code",
   "execution_count": null,
   "id": "f942c0b7",
   "metadata": {},
   "outputs": [],
   "source": []
  },
  {
   "cell_type": "code",
   "execution_count": null,
   "id": "9e9edac8",
   "metadata": {},
   "outputs": [],
   "source": []
  },
  {
   "cell_type": "code",
   "execution_count": null,
   "id": "9fd555d6",
   "metadata": {},
   "outputs": [],
   "source": []
  },
  {
   "cell_type": "markdown",
   "id": "7ba0a541",
   "metadata": {},
   "source": [
    "#### step 5: turn the feature column into multiple boolean columns \n",
    "\n",
    "use the pandas pivot_table method, pivot the feature desciption column into multiple columns which will change the shape of the data from long to wide\n",
    "\n",
    "- pd.pivot_table(df, index=[park], columns=[feature],aggfunc=\"count\")\n",
    "\n",
    "replace the NaN entries in the resulting df with 0 with the pandas fillna() method "
   ]
  },
  {
   "cell_type": "code",
   "execution_count": null,
   "id": "cc430a73",
   "metadata": {},
   "outputs": [],
   "source": []
  },
  {
   "cell_type": "code",
   "execution_count": null,
   "id": "f9e27317",
   "metadata": {},
   "outputs": [],
   "source": []
  },
  {
   "cell_type": "code",
   "execution_count": null,
   "id": "ac9918ba",
   "metadata": {},
   "outputs": [],
   "source": []
  },
  {
   "cell_type": "markdown",
   "id": "173cbc7e",
   "metadata": {},
   "source": [
    "#### Step 6: validate the data\n",
    "- use EDA techniques including visualisation to validate the reshaping process "
   ]
  },
  {
   "cell_type": "code",
   "execution_count": null,
   "id": "6c69076b",
   "metadata": {},
   "outputs": [],
   "source": []
  },
  {
   "cell_type": "code",
   "execution_count": null,
   "id": "32762577",
   "metadata": {},
   "outputs": [],
   "source": []
  },
  {
   "cell_type": "code",
   "execution_count": null,
   "id": "5144e2fe",
   "metadata": {},
   "outputs": [],
   "source": []
  }
 ],
 "metadata": {
  "kernelspec": {
   "display_name": "Python 3 (ipykernel)",
   "language": "python",
   "name": "python3"
  },
  "language_info": {
   "codemirror_mode": {
    "name": "ipython",
    "version": 3
   },
   "file_extension": ".py",
   "mimetype": "text/x-python",
   "name": "python",
   "nbconvert_exporter": "python",
   "pygments_lexer": "ipython3",
   "version": "3.7.16"
  }
 },
 "nbformat": 4,
 "nbformat_minor": 5
}
