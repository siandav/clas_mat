{
 "cells": [
  {
   "cell_type": "markdown",
   "id": "0b9ec620",
   "metadata": {},
   "source": [
    "## Wrangling public school location data \n",
    "\n",
    "### Goals of the Task\n",
    "\n",
    "\n",
    "\n",
    "There are two tables in the dataset retrieved from the Seattle open data portal <br>\n",
    "*Each row in both files is a school.* <br>\n",
    "The csv file is designed to be used in a geospatial tool with an X,Y plotted map image, which we dont have access to. The json file is a dictionary that does contains location coordinates along with other information about each school but the information is nested (dictionaries within dictionaries). This file will need to be unnested in order to make a readable dataframe of longitude and latitude data, which can be joined to the schools data. \n",
    "\n",
    "- We can potentially use this data to identify how many public schools lie within walking distance of each cycle hire station and how far away the nearest public school is from a given cycle hire station. This information could be useful for estimating school related demand on the cycle hire network in term time, versus school holidays. "
   ]
  },
  {
   "cell_type": "markdown",
   "id": "6cf34383",
   "metadata": {},
   "source": [
    "#### Step 1 : use pandas to read the schools csv file as a data frame \n",
    "- import pandas as pd \n",
    "- use pandas read_csv to create a schools data frame\n",
    "- ensure you are pointing at the correct file path for the data source (you may have to navigate in your notebook!) \n"
   ]
  },
  {
   "cell_type": "code",
   "execution_count": 44,
   "id": "ab71c105",
   "metadata": {},
   "outputs": [],
   "source": []
  },
  {
   "cell_type": "code",
   "execution_count": null,
   "id": "530310ae",
   "metadata": {},
   "outputs": [],
   "source": []
  },
  {
   "cell_type": "markdown",
   "id": "fd0830c5",
   "metadata": {},
   "source": [
    "#### Step 2 : drop unnecessary columns \n",
    "\n",
    "Remove the the X, Y coordinates, map label and status columns from the dataframe using a slice or selection method. \n",
    "\n",
    "Then, use head() and info() to preview the remaining schools dataframe "
   ]
  },
  {
   "cell_type": "code",
   "execution_count": null,
   "id": "f6ee75ae",
   "metadata": {},
   "outputs": [],
   "source": []
  },
  {
   "cell_type": "code",
   "execution_count": null,
   "id": "f8937659",
   "metadata": {},
   "outputs": [],
   "source": []
  },
  {
   "cell_type": "code",
   "execution_count": null,
   "id": "6403d284",
   "metadata": {},
   "outputs": [],
   "source": []
  },
  {
   "cell_type": "markdown",
   "id": "8f7a8b32",
   "metadata": {},
   "source": [
    "#### Step 3 : read in the geojson file through the path\n",
    "- import the json library \n",
    "- set the file path as a variable, for example: \n",
    "<blockquote>\n",
    "    path = 'data/Seattle_Public_Schools_Sites_2022-2023.geojson'<br>\n",
    "</blockquote>  \n",
    "\n",
    "- open the file using json.load and the file path \n",
    "\n",
    "<blockquote>\n",
    "    with open(path) as f: <br>\n",
    "        -> schoolsdict = json.load(f) <br>\n",
    "        -> print(schoolsdict)\n",
    "</blockquote>\n",
    "\n",
    "- review the schoolsdict variable by eye and look for the nested dictionary structure. You should see that the file contains (at the uppermost level) 4 keys - 'type', 'name', 'crs', 'features' and there are sub dictionaries nested under each key, but it is hard to read!"
   ]
  },
  {
   "cell_type": "code",
   "execution_count": null,
   "id": "0af88871",
   "metadata": {},
   "outputs": [],
   "source": []
  },
  {
   "cell_type": "code",
   "execution_count": null,
   "id": "ab837cbf",
   "metadata": {},
   "outputs": [],
   "source": []
  },
  {
   "cell_type": "code",
   "execution_count": null,
   "id": "4c8cfebb",
   "metadata": {},
   "outputs": [],
   "source": []
  },
  {
   "cell_type": "markdown",
   "id": "d3a96f89",
   "metadata": {},
   "source": [
    "#### step 4: print the properties of each feature\n",
    "\n",
    "- drilling into the features reveals a list of properties, containing school name and school ID which could be used to join to the csv file \n",
    "\n",
    "<blockquote>\n",
    "    for feature in schoolsdict['features']:<br>\n",
    "      ->  print(feature['properties'])<br>\n",
    "              </blockquote>"
   ]
  },
  {
   "cell_type": "code",
   "execution_count": null,
   "id": "f942c0b7",
   "metadata": {},
   "outputs": [],
   "source": []
  },
  {
   "cell_type": "code",
   "execution_count": null,
   "id": "9e9edac8",
   "metadata": {},
   "outputs": [],
   "source": []
  },
  {
   "cell_type": "code",
   "execution_count": null,
   "id": "9fd555d6",
   "metadata": {},
   "outputs": [],
   "source": []
  },
  {
   "cell_type": "markdown",
   "id": "7ba0a541",
   "metadata": {},
   "source": [
    "#### step 5: print the coordinates of the first school in the file \n",
    "\n",
    "- using the index slicing method we can focus on position 0, the first school in the source data. This reveals the Longitude and Latitude of the school \n",
    "\n",
    "<blockquote>\n",
    "    coords = schoolsdict['features'][0]['geometry']['coordinates'] <br>\n",
    "print(coords)</blockquote>\n"
   ]
  },
  {
   "cell_type": "code",
   "execution_count": null,
   "id": "fd14250c",
   "metadata": {},
   "outputs": [],
   "source": []
  },
  {
   "cell_type": "code",
   "execution_count": null,
   "id": "239ecb93",
   "metadata": {},
   "outputs": [],
   "source": []
  },
  {
   "cell_type": "code",
   "execution_count": null,
   "id": "524205fb",
   "metadata": {},
   "outputs": [],
   "source": []
  },
  {
   "cell_type": "markdown",
   "id": "fdfa0146",
   "metadata": {},
   "source": [
    "#### step 6: extend this method using a for loop to print all the coordinates \n",
    "\n",
    "<blockquote>\n",
    "for i in range(len(schoolsdict['features'])):<br>\n",
    "      -> print(schoolsdict['features'][i]['geometry']['coordinates'])<br>\n",
    "</blockquote>"
   ]
  },
  {
   "cell_type": "code",
   "execution_count": null,
   "id": "cf31870b",
   "metadata": {},
   "outputs": [],
   "source": []
  },
  {
   "cell_type": "code",
   "execution_count": null,
   "id": "ba22e276",
   "metadata": {},
   "outputs": [],
   "source": []
  },
  {
   "cell_type": "code",
   "execution_count": null,
   "id": "adfe18d0",
   "metadata": {},
   "outputs": [],
   "source": []
  },
  {
   "cell_type": "markdown",
   "id": "58d9a714",
   "metadata": {},
   "source": [
    "#### step 7: collect the School IDs and geolocation coordinates from the geojson file to a schoolslocation dataframe\n",
    "\n",
    "- use a for loop to collect the data and convert it to a new schoolslocation dataframe \n",
    "- the final data frame should be 117 rows long and 3 columns wide\n",
    "- column headers are schoolid, longitude and latitude \n",
    "- make sure you map the correct data to the correct column header\n",
    "- preview your schoolslocation dataframe to ensure it shows the expected results"
   ]
  },
  {
   "cell_type": "code",
   "execution_count": null,
   "id": "8d86df10",
   "metadata": {},
   "outputs": [],
   "source": []
  },
  {
   "cell_type": "code",
   "execution_count": null,
   "id": "8d4ed1e0",
   "metadata": {},
   "outputs": [],
   "source": []
  },
  {
   "cell_type": "code",
   "execution_count": null,
   "id": "ae150e02",
   "metadata": {},
   "outputs": [],
   "source": []
  },
  {
   "cell_type": "markdown",
   "id": "bf4a5c94",
   "metadata": {},
   "source": [
    "#### Step 8: combine the two data frames (using pd.concat) so that each school has a longitude and latitude value against it\n",
    "- schoolslocation dataframe  +  schools dataframe\n",
    "- resulting dataframe - > schoolslocinfo"
   ]
  },
  {
   "cell_type": "code",
   "execution_count": null,
   "id": "ff4172f6",
   "metadata": {},
   "outputs": [],
   "source": []
  },
  {
   "cell_type": "code",
   "execution_count": null,
   "id": "7f324f46",
   "metadata": {},
   "outputs": [],
   "source": []
  },
  {
   "cell_type": "code",
   "execution_count": null,
   "id": "7b1e2e22",
   "metadata": {},
   "outputs": [],
   "source": []
  }
 ],
 "metadata": {
  "kernelspec": {
   "display_name": "Python 3 (ipykernel)",
   "language": "python",
   "name": "python3"
  },
  "language_info": {
   "codemirror_mode": {
    "name": "ipython",
    "version": 3
   },
   "file_extension": ".py",
   "mimetype": "text/x-python",
   "name": "python",
   "nbconvert_exporter": "python",
   "pygments_lexer": "ipython3",
   "version": "3.7.16"
  }
 },
 "nbformat": 4,
 "nbformat_minor": 5
}
