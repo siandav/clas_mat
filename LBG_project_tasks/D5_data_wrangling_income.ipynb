{
 "cells": [
  {
   "cell_type": "markdown",
   "id": "0b9ec620",
   "metadata": {},
   "source": [
    "## Wrangling Income reports by zipcode in Seattle \n",
    "\n",
    "### Goals of the Task\n",
    "\n",
    "\n",
    "\n",
    "There is one table in the dataset retrieved from the Seattle open data portal for 2016 tax returns <br>\n",
    "*each row is a zipcode and income band. There are 6 bands with ranges of income defined* <br>\n",
    "\n",
    "- We want to use this data to estimate the average (weighted) income of people living in each zipcode. This may inform us if theres a connection between income levels in an area and cycle hire popularity / behaviour in that area. \n",
    "- we can also potentially use this data to work out how many working adults, non working adults and children, eldery people live in a zipcode. This could inform us how many potential cyclists live in each zipcode "
   ]
  },
  {
   "cell_type": "markdown",
   "id": "6cf34383",
   "metadata": {},
   "source": [
    "#### Step 1 : use pandas to read the csv file as a data frame \n",
    "- import pandas as pd \n",
    "- use pandas read_csv \n",
    "- ensure you are pointing at the correct file path for the data sources (you may have to navigate in your notebook!) \n"
   ]
  },
  {
   "cell_type": "code",
   "execution_count": null,
   "id": "ab71c105",
   "metadata": {},
   "outputs": [],
   "source": []
  },
  {
   "cell_type": "markdown",
   "id": "788be7b2",
   "metadata": {},
   "source": [
    "#### Step 2: preview the dataframe using pandas functions like .info() .head(), .tail() and .describe() \n",
    "- look out for nulls and missing data \n",
    "- any problematic data types\n",
    "- interpret the column headers to see which columns you want to keep "
   ]
  },
  {
   "cell_type": "code",
   "execution_count": null,
   "id": "561fe521",
   "metadata": {},
   "outputs": [],
   "source": []
  },
  {
   "cell_type": "code",
   "execution_count": null,
   "id": "fbc54d65",
   "metadata": {},
   "outputs": [],
   "source": []
  },
  {
   "cell_type": "code",
   "execution_count": null,
   "id": "3a1ebb6e",
   "metadata": {},
   "outputs": [],
   "source": []
  },
  {
   "cell_type": "markdown",
   "id": "6836301b",
   "metadata": {},
   "source": [
    "#### Step 3: drop unneccessary columns\n",
    "- change all column headers to lower case \n",
    "- use any pandas method to select a subset of columns to a new dataframe \n",
    "- retain zipcode, adjusted gross income, number of returns, number of dependants, number of elderly returns "
   ]
  },
  {
   "cell_type": "code",
   "execution_count": null,
   "id": "3cd567dd",
   "metadata": {},
   "outputs": [],
   "source": []
  },
  {
   "cell_type": "code",
   "execution_count": null,
   "id": "3876673e",
   "metadata": {},
   "outputs": [],
   "source": []
  },
  {
   "cell_type": "code",
   "execution_count": null,
   "id": "f916b5b9",
   "metadata": {},
   "outputs": [],
   "source": []
  },
  {
   "cell_type": "markdown",
   "id": "6d59fe56",
   "metadata": {},
   "source": [
    "#### step 4: create a column for middle income\n",
    "\n",
    "focusing on each income band, use the numpy where() function to populate a new column with the middle income of each range (with the exception of the final band, 200k+, which has no middle income of the range  - in these cases, you can use $250k as a suitable substitute) "
   ]
  },
  {
   "cell_type": "code",
   "execution_count": null,
   "id": "281cf2c2",
   "metadata": {},
   "outputs": [],
   "source": []
  },
  {
   "cell_type": "code",
   "execution_count": null,
   "id": "e342cb52",
   "metadata": {},
   "outputs": [],
   "source": []
  },
  {
   "cell_type": "code",
   "execution_count": null,
   "id": "2bbac84b",
   "metadata": {},
   "outputs": [],
   "source": []
  },
  {
   "cell_type": "markdown",
   "id": "5edbdddc",
   "metadata": {},
   "source": [
    "#### Step 5: calculations and aggregations \n",
    "- using the number of returns and the middle income of each band, calculate a weighted average income per zipcode in a new dataframe \n",
    "- add to this data frame the number of returns per zipcode\n",
    "- add to this dataframe the aggregated number of dependents per zipcode \n",
    "- add to this dataframe the aggregated number of elderly per zipcode "
   ]
  },
  {
   "cell_type": "code",
   "execution_count": null,
   "id": "7b46dcbd",
   "metadata": {},
   "outputs": [],
   "source": []
  },
  {
   "cell_type": "code",
   "execution_count": null,
   "id": "87d99248",
   "metadata": {},
   "outputs": [],
   "source": []
  },
  {
   "cell_type": "code",
   "execution_count": null,
   "id": "1e6b3988",
   "metadata": {},
   "outputs": [],
   "source": []
  },
  {
   "cell_type": "markdown",
   "id": "6b82db4d",
   "metadata": {},
   "source": [
    "#### Step 6: validate the data\n",
    "- use EDA techniques including visualisation to validate your calculations and aggregations from the previous step "
   ]
  },
  {
   "cell_type": "code",
   "execution_count": null,
   "id": "3896b96b",
   "metadata": {},
   "outputs": [],
   "source": []
  },
  {
   "cell_type": "code",
   "execution_count": null,
   "id": "e72d1649",
   "metadata": {},
   "outputs": [],
   "source": []
  },
  {
   "cell_type": "code",
   "execution_count": null,
   "id": "9f7750f0",
   "metadata": {},
   "outputs": [],
   "source": []
  },
  {
   "cell_type": "code",
   "execution_count": null,
   "id": "f2c8ecec",
   "metadata": {},
   "outputs": [],
   "source": []
  },
  {
   "cell_type": "code",
   "execution_count": null,
   "id": "09c79384",
   "metadata": {},
   "outputs": [],
   "source": []
  },
  {
   "cell_type": "code",
   "execution_count": null,
   "id": "5ee9e0fa",
   "metadata": {},
   "outputs": [],
   "source": []
  }
 ],
 "metadata": {
  "kernelspec": {
   "display_name": "Python 3 (ipykernel)",
   "language": "python",
   "name": "python3"
  },
  "language_info": {
   "codemirror_mode": {
    "name": "ipython",
    "version": 3
   },
   "file_extension": ".py",
   "mimetype": "text/x-python",
   "name": "python",
   "nbconvert_exporter": "python",
   "pygments_lexer": "ipython3",
   "version": "3.7.16"
  }
 },
 "nbformat": 4,
 "nbformat_minor": 5
}
