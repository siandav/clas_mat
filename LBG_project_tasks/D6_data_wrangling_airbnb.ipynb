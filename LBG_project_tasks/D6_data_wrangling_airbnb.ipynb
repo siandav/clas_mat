{
 "cells": [
  {
   "cell_type": "markdown",
   "id": "0b9ec620",
   "metadata": {},
   "source": [
    "## Wrangling Airbnb Rental Listings in Seattle \n",
    "\n",
    "### Goals of the Task\n",
    "\n",
    "\n",
    "\n",
    "There are three tables in the data set which was scraped from the airbnb website on different dates <br>\n",
    "*listings - each row is a unique rental property* <br>\n",
    "*reviews - each row is a review left by a guest after checking out of a property* <br>\n",
    "*calendar - each row is a date and property showing if it was available or unvailable on that date* <br>\n",
    "\n",
    "We want to use this data to try to understand how many airbnb properties are located close to less popular cycle hire stations and if any airbnb guest commented on transport in their reviews for those properties. This insight could be used to make decisions about the future of those cycle stations. \n",
    "\n",
    "- the three data tables are large and unmanageable in excel, are also slow to visualise in PowerBI\n",
    "- we want to focus on specific locations only \n",
    "- not all the columns will be useful to this analysis\n",
    "- potentially useful mentions of transport are embedded in the review text \n",
    "- there are different dates across the 3 data sets (date scraped, date of review, dates available)"
   ]
  },
  {
   "cell_type": "markdown",
   "id": "6cf34383",
   "metadata": {},
   "source": [
    "#### Step 1 : use pandas to read the data from the 3 csv files to create 3 data frames (listings, reviews, calendar)\n",
    "- import pandas as pd \n",
    "- use pandas read_csv \n",
    "- ensure you are pointing at the correct file path for the data sources (you may have to navigate in your notebook!) \n"
   ]
  },
  {
   "cell_type": "code",
   "execution_count": null,
   "id": "ab71c105",
   "metadata": {},
   "outputs": [],
   "source": []
  },
  {
   "cell_type": "code",
   "execution_count": null,
   "id": "fad060ab",
   "metadata": {},
   "outputs": [],
   "source": []
  },
  {
   "cell_type": "code",
   "execution_count": null,
   "id": "ae3a46cd",
   "metadata": {},
   "outputs": [],
   "source": []
  },
  {
   "cell_type": "markdown",
   "id": "788be7b2",
   "metadata": {},
   "source": [
    "#### Step 2: preview each dataframe using pandas functions like .info() .head(), .tail() and .describe() \n",
    "- look out for nulls and missing data \n",
    "- any problematic data types \n",
    "- consider if you need to do anything about missing data (replace/ impute /ignore / drop)"
   ]
  },
  {
   "cell_type": "code",
   "execution_count": null,
   "id": "561fe521",
   "metadata": {},
   "outputs": [],
   "source": []
  },
  {
   "cell_type": "code",
   "execution_count": null,
   "id": "fbc54d65",
   "metadata": {},
   "outputs": [],
   "source": []
  },
  {
   "cell_type": "code",
   "execution_count": null,
   "id": "3a1ebb6e",
   "metadata": {},
   "outputs": [],
   "source": []
  },
  {
   "cell_type": "markdown",
   "id": "6836301b",
   "metadata": {},
   "source": [
    "#### Step 3: detect and manage any duplicate rows using pandas .duplicated()\n",
    "- consider what a true duplicate is in each data frame\n",
    "- decide whether to drop the duplicates entirely or to review and try to understand why it exists \n",
    "- if you drop any rows, remember to reset your index on the dataframe afterwards using .reset_index(inplace=True,drop=True)"
   ]
  },
  {
   "cell_type": "code",
   "execution_count": null,
   "id": "3cd567dd",
   "metadata": {},
   "outputs": [],
   "source": []
  },
  {
   "cell_type": "code",
   "execution_count": null,
   "id": "3876673e",
   "metadata": {},
   "outputs": [],
   "source": []
  },
  {
   "cell_type": "code",
   "execution_count": null,
   "id": "f916b5b9",
   "metadata": {},
   "outputs": [],
   "source": []
  },
  {
   "cell_type": "markdown",
   "id": "6d59fe56",
   "metadata": {},
   "source": [
    "#### step 4: filter the listings data frame and reduce the number of columns \n",
    "\n",
    "We want to identify airbnb properties listed near to locations of less popular cycle stations found in the cycle hire data using pandas .query() \n",
    "\n",
    "This is the location information we know about the stations:\n",
    "\n",
    "- station WF-03 (160 trips from here) zipcode 98121 lat/long 47.6114 -122.349 Alaskan Way Belltown\n",
    "- station SLU-22 (761 trips from here) zipcode 98109 lat/long 47.6209 -122.347 Thomas Street South Lake Union  <br>\n",
    "\n",
    "You will have to identify columns in the listings dataframe which containing matching location information. \n",
    "\n",
    "Next, reduce the number of columns in this data frame to those which will be likely useful to analyse the sample of properties. You should keep the Id, Host Id, some location information and some columns about the space eg property type, no of bedrooms "
   ]
  },
  {
   "cell_type": "code",
   "execution_count": null,
   "id": "281cf2c2",
   "metadata": {},
   "outputs": [],
   "source": []
  },
  {
   "cell_type": "code",
   "execution_count": null,
   "id": "e342cb52",
   "metadata": {},
   "outputs": [],
   "source": []
  },
  {
   "cell_type": "code",
   "execution_count": null,
   "id": "2bbac84b",
   "metadata": {},
   "outputs": [],
   "source": []
  },
  {
   "cell_type": "markdown",
   "id": "00caf901",
   "metadata": {},
   "source": [
    "#### Step 5: obtain a list of unique listing ids from the calendar table which show properties available for rent on any day in August 2016\n",
    "\n",
    "- note that it is not possible to do this using excel due to the large size of the file \n",
    "- extract the unique values from the dataframe using unique() \n",
    "- convert the series to a list \n",
    "- use the list of ids to filter the listings table with a pandas query "
   ]
  },
  {
   "cell_type": "code",
   "execution_count": null,
   "id": "1a582dee",
   "metadata": {},
   "outputs": [],
   "source": []
  },
  {
   "cell_type": "code",
   "execution_count": null,
   "id": "c19aaa2b",
   "metadata": {},
   "outputs": [],
   "source": []
  },
  {
   "cell_type": "code",
   "execution_count": null,
   "id": "81f4544c",
   "metadata": {},
   "outputs": [],
   "source": []
  },
  {
   "cell_type": "markdown",
   "id": "0df2b7b5",
   "metadata": {},
   "source": [
    "#### Step 6: combine the data sources into a new data frame\n",
    "- the Id in the listings table and the Listing Id in reviews are the relevant keys to use \n",
    "- use the pandas merge method\n",
    "- the data frame should contain a subset of columns that you consider useful to analyse airbnb properties near the 2 least popular cycle stations, plus the review text column\n",
    "- the data frame should only contain properties that were available for rent at August 2016\n",
    "- the data frame should contain only the reviews those properties received in the period matching our cycle hire sample dates (2014-2016)"
   ]
  },
  {
   "cell_type": "code",
   "execution_count": null,
   "id": "3422d7c4",
   "metadata": {},
   "outputs": [],
   "source": []
  },
  {
   "cell_type": "code",
   "execution_count": null,
   "id": "a867ba26",
   "metadata": {},
   "outputs": [],
   "source": []
  },
  {
   "cell_type": "code",
   "execution_count": null,
   "id": "faded93a",
   "metadata": {},
   "outputs": [],
   "source": []
  },
  {
   "cell_type": "markdown",
   "id": "1a76eedc",
   "metadata": {},
   "source": [
    "#### Step 7: check for the mentions of transportation, transport, cycling or bikes in the review text \n",
    "\n",
    "- in the review column you will find sentences\n",
    "- you can utilise any of the methods you encountered in the week 8 text analysis topic\n",
    "- for example, you can use pandas str contain function, or regexp pattern matching\n",
    "- the aim is to flag all the reviews which contains reference to transport or transportation, cycling, bikes etc"
   ]
  },
  {
   "cell_type": "code",
   "execution_count": null,
   "id": "4a3e7677",
   "metadata": {},
   "outputs": [],
   "source": []
  },
  {
   "cell_type": "code",
   "execution_count": null,
   "id": "5cf575d5",
   "metadata": {},
   "outputs": [],
   "source": []
  },
  {
   "cell_type": "code",
   "execution_count": null,
   "id": "55822683",
   "metadata": {},
   "outputs": [],
   "source": []
  },
  {
   "cell_type": "markdown",
   "id": "5edbdddc",
   "metadata": {},
   "source": [
    "#### Step 8: data visualisations \n",
    "- visualise the number of listings, beds per room type of properties you have found close to the cycle stations mentioned\n",
    "- then visualise how many reviews for those properties mentioned the theme of transport"
   ]
  },
  {
   "cell_type": "code",
   "execution_count": null,
   "id": "7b46dcbd",
   "metadata": {},
   "outputs": [],
   "source": []
  },
  {
   "cell_type": "code",
   "execution_count": null,
   "id": "87d99248",
   "metadata": {},
   "outputs": [],
   "source": []
  },
  {
   "cell_type": "code",
   "execution_count": null,
   "id": "1e6b3988",
   "metadata": {},
   "outputs": [],
   "source": []
  }
 ],
 "metadata": {
  "kernelspec": {
   "display_name": "Python 3 (ipykernel)",
   "language": "python",
   "name": "python3"
  },
  "language_info": {
   "codemirror_mode": {
    "name": "ipython",
    "version": 3
   },
   "file_extension": ".py",
   "mimetype": "text/x-python",
   "name": "python",
   "nbconvert_exporter": "python",
   "pygments_lexer": "ipython3",
   "version": "3.7.16"
  }
 },
 "nbformat": 4,
 "nbformat_minor": 5
}
