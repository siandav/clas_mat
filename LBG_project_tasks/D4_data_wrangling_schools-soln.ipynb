{
 "cells": [
  {
   "cell_type": "markdown",
   "id": "0b9ec620",
   "metadata": {},
   "source": [
    "## Wrangling public school location data \n",
    "\n",
    "### Goals of the Task\n",
    "\n",
    "\n",
    "\n",
    "There are two tables in the dataset retrieved from the Seattle open data portal <br>\n",
    "*Each row in both files is a school.* <br>\n",
    "The csv file is designed to be used in a geospatial tool with an X,Y plotted map image, which we dont have access to. The json file is a dictionary that does contains location coordinates along with other information about each school but the information is nested (dictionaries within dictionaries). This file will need to be unnested in order to make a readable dataframe of longitude and latitude data, which can be joined to the schools data. \n",
    "\n",
    "- We can potentially use this data to identify how many public schools lie within 1km of each cycle hire station and how far away the nearest public school is from a given cycle hire station. This information could be useful for estimating school related demand on the cycle hire network in term time, versus school holidays. "
   ]
  },
  {
   "cell_type": "markdown",
   "id": "6cf34383",
   "metadata": {},
   "source": [
    "#### Step 1 : use pandas to read the schools csv file as a data frame \n",
    "- import pandas as pd \n",
    "- use pandas read_csv to create a schools data frame\n",
    "- ensure you are pointing at the correct file path for the data source (you may have to navigate in your notebook!) \n"
   ]
  },
  {
   "cell_type": "code",
   "execution_count": 44,
   "id": "ab71c105",
   "metadata": {},
   "outputs": [],
   "source": []
  },
  {
   "cell_type": "code",
   "execution_count": null,
   "id": "33f48e34",
   "metadata": {},
   "outputs": [],
   "source": []
  },
  {
   "cell_type": "markdown",
   "id": "04f1f62b",
   "metadata": {},
   "source": [
    "#### Step 2 : drop unnecessary columns \n",
    "\n",
    "Remove the the X, Y coordinates, map label and status columns from the dataframe using a slice or selection method. \n",
    "\n",
    "Use head() and info() to preview the remaining dataframe "
   ]
  },
  {
   "cell_type": "code",
   "execution_count": null,
   "id": "6a338b32",
   "metadata": {},
   "outputs": [],
   "source": []
  },
  {
   "cell_type": "code",
   "execution_count": null,
   "id": "f70db896",
   "metadata": {},
   "outputs": [],
   "source": []
  },
  {
   "cell_type": "code",
   "execution_count": null,
   "id": "5c1a7c99",
   "metadata": {},
   "outputs": [],
   "source": []
  },
  {
   "cell_type": "markdown",
   "id": "481a72f2",
   "metadata": {},
   "source": [
    "#### Step 3 : read in the geojson file through the path\n",
    "- import the json library \n",
    "- set the file path as a variable, for example: \n",
    "<blockquote>\n",
    "    path = 'data/Seattle_Public_Schools_Sites_2022-2023.geojson'<br>\n",
    "</blockquote>  \n",
    "\n",
    "- open the file using json.load and the file path \n",
    "\n",
    "<blockquote>\n",
    "    with open(path) as f: <br>\n",
    "        -> schoolsdict = json.load(f) <br>\n",
    "        -> print(schoolsdict)\n",
    "</blockquote>\n",
    "\n",
    "- review the schoolsdict variable by eye and look for the nested dictionary structure. You should see that the file contains (at the uppermost level) 4 keys - 'type', 'name', 'crs', 'features' and there are sub dictionaries nested under each key, but it is hard to read!"
   ]
  },
  {
   "cell_type": "code",
   "execution_count": null,
   "id": "424722da",
   "metadata": {},
   "outputs": [],
   "source": []
  },
  {
   "cell_type": "code",
   "execution_count": null,
   "id": "e2488d22",
   "metadata": {},
   "outputs": [],
   "source": []
  },
  {
   "cell_type": "code",
   "execution_count": null,
   "id": "2e571b47",
   "metadata": {},
   "outputs": [],
   "source": []
  },
  {
   "cell_type": "markdown",
   "id": "e6c99dd5",
   "metadata": {},
   "source": [
    "#### step 4: print the properties of each feature\n",
    "\n",
    "- drilling into the features reveals a list of properties, containing school name and school ID which could be used to join to the csv file \n",
    "\n",
    "<blockquote>\n",
    "    for feature in schoolsdict['features']:<br>\n",
    "      ->  print(feature['properties'])<br>\n",
    "              </blockquote>"
   ]
  },
  {
   "cell_type": "code",
   "execution_count": null,
   "id": "f9127994",
   "metadata": {},
   "outputs": [],
   "source": []
  },
  {
   "cell_type": "code",
   "execution_count": null,
   "id": "67f7c9d9",
   "metadata": {},
   "outputs": [],
   "source": []
  },
  {
   "cell_type": "code",
   "execution_count": null,
   "id": "d4b95e1e",
   "metadata": {},
   "outputs": [],
   "source": []
  },
  {
   "cell_type": "markdown",
   "id": "edac8cfb",
   "metadata": {},
   "source": [
    "#### step 5: print the coordinates of the first school in the file \n",
    "\n",
    "- using the index slicing method we can focus on position 0, the first school in the source data. This reveals the Longitude and Latitude of the school \n",
    "\n",
    "<blockquote>\n",
    "    coords = schoolsdict['features'][0]['geometry']['coordinates'] <br>\n",
    "print(coords)</blockquote>\n"
   ]
  },
  {
   "cell_type": "code",
   "execution_count": null,
   "id": "72c79e07",
   "metadata": {},
   "outputs": [],
   "source": []
  },
  {
   "cell_type": "code",
   "execution_count": null,
   "id": "34b8dc3d",
   "metadata": {},
   "outputs": [],
   "source": []
  },
  {
   "cell_type": "code",
   "execution_count": null,
   "id": "8c6f4768",
   "metadata": {},
   "outputs": [],
   "source": []
  },
  {
   "cell_type": "markdown",
   "id": "08a48961",
   "metadata": {},
   "source": [
    "#### Extend this method using a for loop to print all the coordinates \n",
    "\n",
    "<blockquote>\n",
    "for i in range(len(schoolsdict['features'])):<br>\n",
    "      -> print(schoolsdict['features'][i]['geometry']['coordinates'])<br>\n",
    "</blockquote>"
   ]
  },
  {
   "cell_type": "code",
   "execution_count": null,
   "id": "3edeb9c0",
   "metadata": {},
   "outputs": [],
   "source": []
  },
  {
   "cell_type": "code",
   "execution_count": null,
   "id": "f10ffbdd",
   "metadata": {},
   "outputs": [],
   "source": []
  },
  {
   "cell_type": "code",
   "execution_count": null,
   "id": "a05b2a0d",
   "metadata": {},
   "outputs": [],
   "source": []
  },
  {
   "cell_type": "markdown",
   "id": "fce0e1f1",
   "metadata": {},
   "source": [
    "#### step 6: collect the School IDs and geolocation coordinates from the geojson file to a dataframe\n",
    "\n",
    "- use a for loop to collect the data \n",
    "- the final data frame should be 117 rows long and 3 columns wide\n",
    "- column headers are schoolid, longitude and latitude \n",
    "- make sure you map the correct data to the correct column header\n",
    "- preview your dataframe to ensure it shows the expected results"
   ]
  },
  {
   "cell_type": "code",
   "execution_count": null,
   "id": "93bef198",
   "metadata": {},
   "outputs": [],
   "source": []
  },
  {
   "cell_type": "code",
   "execution_count": 108,
   "id": "3ef67759",
   "metadata": {},
   "outputs": [],
   "source": [
    "long=[]\n",
    "lat=[]\n",
    "schid=[]\n",
    "for i in range(len(schoolsdict['features'])):\n",
    "    a=schoolsdict['features'][i]['properties']['schID']\n",
    "    schid.append(a)\n",
    "    b=schoolsdict['features'][i]['geometry']['coordinates'][0]\n",
    "    long.append(b)\n",
    "    c=schoolsdict['features'][i]['geometry']['coordinates'][1]\n",
    "    lat.append(c)\n",
    "geodf=pd.DataFrame(\n",
    "    {'schoolid': schid,\n",
    "     'longitude': long,\n",
    "     'latitude': lat\n",
    "    }\n",
    ")"
   ]
  },
  {
   "cell_type": "code",
   "execution_count": 109,
   "id": "be76f969",
   "metadata": {},
   "outputs": [
    {
     "data": {
      "text/html": [
       "<div>\n",
       "<style scoped>\n",
       "    .dataframe tbody tr th:only-of-type {\n",
       "        vertical-align: middle;\n",
       "    }\n",
       "\n",
       "    .dataframe tbody tr th {\n",
       "        vertical-align: top;\n",
       "    }\n",
       "\n",
       "    .dataframe thead th {\n",
       "        text-align: right;\n",
       "    }\n",
       "</style>\n",
       "<table border=\"1\" class=\"dataframe\">\n",
       "  <thead>\n",
       "    <tr style=\"text-align: right;\">\n",
       "      <th></th>\n",
       "      <th>schoolid</th>\n",
       "      <th>longitude</th>\n",
       "      <th>latitude</th>\n",
       "    </tr>\n",
       "  </thead>\n",
       "  <tbody>\n",
       "    <tr>\n",
       "      <th>0</th>\n",
       "      <td>106</td>\n",
       "      <td>-122.293009</td>\n",
       "      <td>47.709945</td>\n",
       "    </tr>\n",
       "    <tr>\n",
       "      <th>1</th>\n",
       "      <td>292</td>\n",
       "      <td>-122.314658</td>\n",
       "      <td>47.713430</td>\n",
       "    </tr>\n",
       "    <tr>\n",
       "      <th>2</th>\n",
       "      <td>264</td>\n",
       "      <td>-122.263172</td>\n",
       "      <td>47.498863</td>\n",
       "    </tr>\n",
       "    <tr>\n",
       "      <th>3</th>\n",
       "      <td>203</td>\n",
       "      <td>-122.377588</td>\n",
       "      <td>47.509700</td>\n",
       "    </tr>\n",
       "    <tr>\n",
       "      <th>4</th>\n",
       "      <td>221</td>\n",
       "      <td>-122.258636</td>\n",
       "      <td>47.514820</td>\n",
       "    </tr>\n",
       "    <tr>\n",
       "      <th>...</th>\n",
       "      <td>...</td>\n",
       "      <td>...</td>\n",
       "      <td>...</td>\n",
       "    </tr>\n",
       "    <tr>\n",
       "      <th>112</th>\n",
       "      <td>109</td>\n",
       "      <td>-122.305245</td>\n",
       "      <td>47.621603</td>\n",
       "    </tr>\n",
       "    <tr>\n",
       "      <th>113</th>\n",
       "      <td>971</td>\n",
       "      <td>-122.337289</td>\n",
       "      <td>47.694944</td>\n",
       "    </tr>\n",
       "    <tr>\n",
       "      <th>114</th>\n",
       "      <td>210</td>\n",
       "      <td>-122.287531</td>\n",
       "      <td>47.725814</td>\n",
       "    </tr>\n",
       "    <tr>\n",
       "      <th>115</th>\n",
       "      <td>365</td>\n",
       "      <td>-122.353265</td>\n",
       "      <td>47.632023</td>\n",
       "    </tr>\n",
       "    <tr>\n",
       "      <th>116</th>\n",
       "      <td>287</td>\n",
       "      <td>-122.282624</td>\n",
       "      <td>47.685713</td>\n",
       "    </tr>\n",
       "  </tbody>\n",
       "</table>\n",
       "<p>117 rows × 3 columns</p>\n",
       "</div>"
      ],
      "text/plain": [
       "     schoolid   longitude   latitude\n",
       "0         106 -122.293009  47.709945\n",
       "1         292 -122.314658  47.713430\n",
       "2         264 -122.263172  47.498863\n",
       "3         203 -122.377588  47.509700\n",
       "4         221 -122.258636  47.514820\n",
       "..        ...         ...        ...\n",
       "112       109 -122.305245  47.621603\n",
       "113       971 -122.337289  47.694944\n",
       "114       210 -122.287531  47.725814\n",
       "115       365 -122.353265  47.632023\n",
       "116       287 -122.282624  47.685713\n",
       "\n",
       "[117 rows x 3 columns]"
      ]
     },
     "execution_count": 109,
     "metadata": {},
     "output_type": "execute_result"
    }
   ],
   "source": [
    "geodf"
   ]
  },
  {
   "cell_type": "code",
   "execution_count": null,
   "id": "d0bf1b57",
   "metadata": {},
   "outputs": [],
   "source": []
  },
  {
   "cell_type": "code",
   "execution_count": null,
   "id": "52221d94",
   "metadata": {},
   "outputs": [],
   "source": []
  },
  {
   "cell_type": "code",
   "execution_count": null,
   "id": "4837f01b",
   "metadata": {},
   "outputs": [],
   "source": []
  }
 ],
 "metadata": {
  "kernelspec": {
   "display_name": "Python 3 (ipykernel)",
   "language": "python",
   "name": "python3"
  },
  "language_info": {
   "codemirror_mode": {
    "name": "ipython",
    "version": 3
   },
   "file_extension": ".py",
   "mimetype": "text/x-python",
   "name": "python",
   "nbconvert_exporter": "python",
   "pygments_lexer": "ipython3",
   "version": "3.7.16"
  }
 },
 "nbformat": 4,
 "nbformat_minor": 5
}
