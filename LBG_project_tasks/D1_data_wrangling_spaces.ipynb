{
 "cells": [
  {
   "cell_type": "markdown",
   "id": "0b9ec620",
   "metadata": {},
   "source": [
    "## Wrangling parks data\n",
    "\n",
    "### Goals of the Task\n",
    "\n",
    "\n",
    "Each row in the cultural spaces data set is a Seattle venue such as a cinema, art gallery, theatre or music venue.  \n",
    "\n",
    "The aim of this task is to remove cultural spaces from the data that we don’t have location information against, plus any spaces that were closed before the period of our cycle hire data sample. Then, using the range of longitude and latitude found in the cycle hire data, you will eliminate cultural spaces that are not located near cycle hire stations. \n",
    "\n",
    "After this you will use an aggregation method in pandas to review the number of cultural spaces in your remaining data set, summarizing these venues by neighbourhood and cultural purpose. "
   ]
  },
  {
   "cell_type": "markdown",
   "id": "6cf34383",
   "metadata": {},
   "source": [
    "#### Step 1 : use pandas to read the cultural spaces csv as a data frame\n",
    "- import pandas as pd \n",
    "- use pandas read_csv to create a culturalspaces data frame \n",
    "- ensure you are pointing at the correct file path for the data source (you may have to navigate in your notebook!) \n"
   ]
  },
  {
   "cell_type": "code",
   "execution_count": null,
   "id": "ab71c105",
   "metadata": {},
   "outputs": [],
   "source": []
  },
  {
   "cell_type": "code",
   "execution_count": null,
   "id": "b48b8544",
   "metadata": {},
   "outputs": [],
   "source": []
  },
  {
   "cell_type": "code",
   "execution_count": null,
   "id": "530310ae",
   "metadata": {},
   "outputs": [],
   "source": []
  },
  {
   "cell_type": "markdown",
   "id": "6cb9cd6f",
   "metadata": {},
   "source": [
    "#### Step 2 : drop unusuable rows\n",
    "\n",
    "- first, using the pandas dropna() method, remove from the culturalspaces data frame any rows which have null in either the Longitude or Latitude columns \n",
    "- next, drop rows of culturalspaces which were closed prior to the first date in our cycle hire data (Oct 2014) using any pandas filter approach \n",
    "- reset the index of your culturalspaces data frame after dropping rows \n",
    "\n",
    "\n",
    "https://www.geeksforgeeks.org/ways-to-filter-pandas-dataframe-by-column-values/"
   ]
  },
  {
   "cell_type": "code",
   "execution_count": null,
   "id": "88fbd93e",
   "metadata": {},
   "outputs": [],
   "source": []
  },
  {
   "cell_type": "code",
   "execution_count": null,
   "id": "4343760a",
   "metadata": {},
   "outputs": [],
   "source": []
  },
  {
   "cell_type": "code",
   "execution_count": null,
   "id": "f4212cf9",
   "metadata": {},
   "outputs": [],
   "source": []
  },
  {
   "cell_type": "markdown",
   "id": "fd0830c5",
   "metadata": {},
   "source": [
    "#### Step 3 : create a data frame from the cycle hire station data to get the ranges of longitude and latitude \n",
    "\n",
    "- use pandas read_csv to create a second data frame from seattle_cycles_station.csv file \n",
    "- use max() and min() to identify the range of longitude and latitude values in the cycle station data "
   ]
  },
  {
   "cell_type": "code",
   "execution_count": null,
   "id": "f6ee75ae",
   "metadata": {},
   "outputs": [],
   "source": []
  },
  {
   "cell_type": "code",
   "execution_count": null,
   "id": "f8937659",
   "metadata": {},
   "outputs": [],
   "source": []
  },
  {
   "cell_type": "code",
   "execution_count": null,
   "id": "6403d284",
   "metadata": {},
   "outputs": [],
   "source": []
  },
  {
   "cell_type": "markdown",
   "id": "d3a96f89",
   "metadata": {},
   "source": [
    "#### step 4: drop rows which are outside of the cycle hire data range \n",
    "\n",
    "- use any pandas filter method to retain rows in the culturalspaces dataframe which are inside the relevant long/lat range of the cycle hire stations \n",
    "- reset the index of your culturalspaces dataframe after dropping rows "
   ]
  },
  {
   "cell_type": "code",
   "execution_count": null,
   "id": "f942c0b7",
   "metadata": {},
   "outputs": [],
   "source": []
  },
  {
   "cell_type": "code",
   "execution_count": null,
   "id": "9e9edac8",
   "metadata": {},
   "outputs": [],
   "source": []
  },
  {
   "cell_type": "code",
   "execution_count": null,
   "id": "9fd555d6",
   "metadata": {},
   "outputs": [],
   "source": []
  },
  {
   "cell_type": "markdown",
   "id": "084f2c48",
   "metadata": {},
   "source": [
    "#### step 5: simplify and fill gaps in location using python text analysis methods \n",
    "\n",
    "this data is quite text heavy, so you will now use methods you encountered in topic 8 to process the data \n",
    "\n",
    "- simplify the cultural space category by using any  pandas string method to keep the first word of the Dominant Discipline column, creating a new column 'purpose'\n",
    "(eg 'Arts/Cultural Training or Education' will become simply 'Arts' in the purpose column )\n",
    "\n",
    "- using a similar method, simplify the neighbourhood column, creating a neighbourhood_clean column, and amend any typos you see \n",
    "(eg 'University District and Laurelhurst/Sand Point' will be classed as 'University District') \n",
    "\n",
    "- fill in any gaps in the neighbourhood_clean column as 'unknown neighbourhood'"
   ]
  },
  {
   "cell_type": "code",
   "execution_count": null,
   "id": "f53ff357",
   "metadata": {},
   "outputs": [],
   "source": []
  },
  {
   "cell_type": "code",
   "execution_count": null,
   "id": "9cfc3996",
   "metadata": {},
   "outputs": [],
   "source": []
  },
  {
   "cell_type": "code",
   "execution_count": null,
   "id": "a1d82e4a",
   "metadata": {},
   "outputs": [],
   "source": []
  },
  {
   "cell_type": "markdown",
   "id": "7ba0a541",
   "metadata": {},
   "source": [
    "#### step 6: summarise the cultural spaces by neighbourhood and purpose \n",
    "\n",
    "- use the pandas group_by() method to summarise the number of spaces by (known) neighbourhood and cultural purpose "
   ]
  },
  {
   "cell_type": "code",
   "execution_count": null,
   "id": "cc430a73",
   "metadata": {},
   "outputs": [],
   "source": []
  },
  {
   "cell_type": "code",
   "execution_count": null,
   "id": "f9e27317",
   "metadata": {},
   "outputs": [],
   "source": []
  },
  {
   "cell_type": "code",
   "execution_count": null,
   "id": "ac9918ba",
   "metadata": {},
   "outputs": [],
   "source": []
  }
 ],
 "metadata": {
  "kernelspec": {
   "display_name": "Python 3 (ipykernel)",
   "language": "python",
   "name": "python3"
  },
  "language_info": {
   "codemirror_mode": {
    "name": "ipython",
    "version": 3
   },
   "file_extension": ".py",
   "mimetype": "text/x-python",
   "name": "python",
   "nbconvert_exporter": "python",
   "pygments_lexer": "ipython3",
   "version": "3.7.16"
  }
 },
 "nbformat": 4,
 "nbformat_minor": 5
}
