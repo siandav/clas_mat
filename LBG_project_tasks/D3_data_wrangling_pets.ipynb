{
 "cells": [
  {
   "cell_type": "markdown",
   "id": "0b9ec620",
   "metadata": {},
   "source": [
    "## Wrangling pet license data \n",
    "\n",
    "### Goals of the Task\n",
    "\n",
    "\n",
    "Each row in the pet license data set is a pet in the Seattle area, with the zipcode. \n",
    "The aim of this task is to reshape and filter the data table into a summary of the number of dogs registered per zip code. this is potentially interesting data because it tells us about how many people are using bikes to exercise or are more likely to be exercising on foot. \n"
   ]
  },
  {
   "cell_type": "markdown",
   "id": "6cf34383",
   "metadata": {},
   "source": [
    "#### Step 1 : use pandas to read the pet license csv file as a data frame \n",
    "- import pandas as pd \n",
    "- use pandas read_csv to create a pets data frame\n",
    "- ensure you are pointing at the correct file path for the data source (you may have to navigate in your notebook!) \n"
   ]
  },
  {
   "cell_type": "code",
   "execution_count": null,
   "id": "ab71c105",
   "metadata": {},
   "outputs": [],
   "source": []
  },
  {
   "cell_type": "code",
   "execution_count": null,
   "id": "530310ae",
   "metadata": {},
   "outputs": [],
   "source": []
  },
  {
   "cell_type": "code",
   "execution_count": null,
   "id": "596406f0",
   "metadata": {},
   "outputs": [],
   "source": []
  },
  {
   "cell_type": "markdown",
   "id": "fd0830c5",
   "metadata": {},
   "source": [
    "#### Step 2 : drop unnecessary columns \n",
    "\n",
    "Remove the the name, license date and breed columns from the dataframe using a slice or selection method. \n",
    "\n",
    "Use head() and info() to preview the remaining dataframe "
   ]
  },
  {
   "cell_type": "code",
   "execution_count": null,
   "id": "f6ee75ae",
   "metadata": {},
   "outputs": [],
   "source": []
  },
  {
   "cell_type": "code",
   "execution_count": null,
   "id": "f8937659",
   "metadata": {},
   "outputs": [],
   "source": []
  },
  {
   "cell_type": "code",
   "execution_count": null,
   "id": "6403d284",
   "metadata": {},
   "outputs": [],
   "source": []
  },
  {
   "cell_type": "markdown",
   "id": "d3a96f89",
   "metadata": {},
   "source": [
    "#### step 3: filter to dogs only and do some text analysis\n",
    "\n",
    "- we only want to keep those pets which are dogs (not cats or livestock) so apply any pandas filtering method to keep the rows where species = Dogs\n",
    "-  the columns animal_s_name and primary_breed contain useful text data. Use any of the text analysis methods you met in week 8 to find out: \n",
    "    * what are the 3 most common dog names in seattle?\n",
    "    * what is the most common dog name for Dachsunds in seattle?\n",
    "\n"
   ]
  },
  {
   "cell_type": "code",
   "execution_count": null,
   "id": "f942c0b7",
   "metadata": {},
   "outputs": [],
   "source": []
  },
  {
   "cell_type": "code",
   "execution_count": null,
   "id": "e24a6eea",
   "metadata": {},
   "outputs": [],
   "source": []
  },
  {
   "cell_type": "code",
   "execution_count": null,
   "id": "a5eaa4c9",
   "metadata": {},
   "outputs": [],
   "source": []
  },
  {
   "cell_type": "markdown",
   "id": "f0239572",
   "metadata": {},
   "source": [
    "#### step 4: filter to dogs in relevant zipcodes \n",
    "\n",
    "- drop any rows from your data frame which dont have zipcodes\n",
    "- now, drop any rows that are linked to zipcodes which are either invalid or dont match the zipcodes in the Seattle cycle trip data - you can use the reference list below:\n",
    "\n",
    "\n",
    "98109\n",
    "98102\n",
    "98121\n",
    "98101\n",
    "98122\n",
    "98112\n",
    "98104\n",
    "98105\n",
    "\n",
    "- remember to update the index of your data frame after dropping rows "
   ]
  },
  {
   "cell_type": "code",
   "execution_count": null,
   "id": "9fd555d6",
   "metadata": {},
   "outputs": [],
   "source": []
  },
  {
   "cell_type": "code",
   "execution_count": null,
   "id": "9646f3b2",
   "metadata": {},
   "outputs": [],
   "source": []
  },
  {
   "cell_type": "code",
   "execution_count": null,
   "id": "29738db7",
   "metadata": {},
   "outputs": [],
   "source": []
  },
  {
   "cell_type": "markdown",
   "id": "7ba0a541",
   "metadata": {},
   "source": [
    "#### step 4: total up the dog licenses by zipcode \n",
    "\n",
    "- using the group by pandas method on your data frame\n",
    "- summarise the number of dogs per relevant zipcode"
   ]
  },
  {
   "cell_type": "code",
   "execution_count": null,
   "id": "fd14250c",
   "metadata": {},
   "outputs": [],
   "source": []
  },
  {
   "cell_type": "code",
   "execution_count": null,
   "id": "239ecb93",
   "metadata": {},
   "outputs": [],
   "source": []
  },
  {
   "cell_type": "code",
   "execution_count": null,
   "id": "524205fb",
   "metadata": {},
   "outputs": [],
   "source": []
  },
  {
   "cell_type": "markdown",
   "id": "173cbc7e",
   "metadata": {},
   "source": [
    "#### Step 5: validate the data\n",
    "- use EDA techniques including visualisation to validate the aggregation from the previous step "
   ]
  },
  {
   "cell_type": "code",
   "execution_count": null,
   "id": "6c69076b",
   "metadata": {},
   "outputs": [],
   "source": []
  },
  {
   "cell_type": "code",
   "execution_count": null,
   "id": "32762577",
   "metadata": {},
   "outputs": [],
   "source": []
  },
  {
   "cell_type": "code",
   "execution_count": null,
   "id": "5144e2fe",
   "metadata": {},
   "outputs": [],
   "source": []
  },
  {
   "cell_type": "code",
   "execution_count": null,
   "id": "66815d68",
   "metadata": {},
   "outputs": [],
   "source": []
  }
 ],
 "metadata": {
  "kernelspec": {
   "display_name": "Python 3 (ipykernel)",
   "language": "python",
   "name": "python3"
  },
  "language_info": {
   "codemirror_mode": {
    "name": "ipython",
    "version": 3
   },
   "file_extension": ".py",
   "mimetype": "text/x-python",
   "name": "python",
   "nbconvert_exporter": "python",
   "pygments_lexer": "ipython3",
   "version": "3.7.16"
  }
 },
 "nbformat": 4,
 "nbformat_minor": 5
}
