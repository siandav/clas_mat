{
 "cells": [
  {
   "cell_type": "markdown",
   "id": "446602c5",
   "metadata": {},
   "source": [
    "# T test"
   ]
  },
  {
   "cell_type": "code",
   "execution_count": 1,
   "id": "7d1496ca",
   "metadata": {},
   "outputs": [],
   "source": [
    "from scipy.stats import ttest_1samp # this is a one not an L"
   ]
  },
  {
   "cell_type": "code",
   "execution_count": 2,
   "id": "c7bd39a7",
   "metadata": {},
   "outputs": [],
   "source": [
    "from scipy.stats import norm "
   ]
  },
  {
   "cell_type": "code",
   "execution_count": 13,
   "id": "6b089c07",
   "metadata": {},
   "outputs": [],
   "source": [
    "data=[86,68,62,76,85,86,76] # examples weights \n",
    "# from a data frame \n",
    "# from a list \n",
    "# if you know the data "
   ]
  },
  {
   "cell_type": "code",
   "execution_count": 14,
   "id": "338d11c8",
   "metadata": {},
   "outputs": [],
   "source": [
    "test=ttest_1samp(a=data,popmean=85)"
   ]
  },
  {
   "cell_type": "code",
   "execution_count": 15,
   "id": "10a57f6a",
   "metadata": {},
   "outputs": [
    {
     "name": "stdout",
     "output_type": "stream",
     "text": [
      "Ttest_1sampResult(statistic=-2.243592624602011, pvalue=0.06602013909836627)\n"
     ]
    }
   ],
   "source": [
    "print(test)"
   ]
  },
  {
   "cell_type": "code",
   "execution_count": null,
   "id": "03acd2cc",
   "metadata": {},
   "outputs": [],
   "source": [
    "# there is no extreme result - we dont have enough evidence ...\n",
    "# to claim that the boys are underweight \n",
    "# we would accept the H0 + reject the HA"
   ]
  },
  {
   "cell_type": "code",
   "execution_count": 16,
   "id": "f578c367",
   "metadata": {},
   "outputs": [],
   "source": [
    "# if we dont have the readings /observations we can do it like this\n",
    "sample_mean=80.94\n",
    "pop_mean=85\n",
    "sample_std=11.6\n",
    "n=25 "
   ]
  },
  {
   "cell_type": "code",
   "execution_count": 17,
   "id": "e46edbcf",
   "metadata": {},
   "outputs": [],
   "source": [
    "import math"
   ]
  },
  {
   "cell_type": "code",
   "execution_count": 18,
   "id": "f7fe70fa",
   "metadata": {},
   "outputs": [],
   "source": [
    "t_statistic = (sample_mean-pop_mean)/(sample_std/(math.sqrt(n-1)))"
   ]
  },
  {
   "cell_type": "code",
   "execution_count": 19,
   "id": "c4833488",
   "metadata": {},
   "outputs": [
    {
     "data": {
      "text/plain": [
       "-1.7146428199482255"
      ]
     },
     "execution_count": 19,
     "metadata": {},
     "output_type": "execute_result"
    }
   ],
   "source": [
    "t_statistic"
   ]
  },
  {
   "cell_type": "code",
   "execution_count": 20,
   "id": "7602980b",
   "metadata": {},
   "outputs": [],
   "source": [
    "# p value \n",
    "p_value=norm.cdf(t_statistic)"
   ]
  },
  {
   "cell_type": "code",
   "execution_count": 21,
   "id": "5038eaa2",
   "metadata": {},
   "outputs": [
    {
     "data": {
      "text/plain": [
       "0.04320536648684992"
      ]
     },
     "execution_count": 21,
     "metadata": {},
     "output_type": "execute_result"
    }
   ],
   "source": [
    "p_value"
   ]
  },
  {
   "cell_type": "code",
   "execution_count": 22,
   "id": "4379fe15",
   "metadata": {},
   "outputs": [],
   "source": [
    "# critical value \n",
    "critical_value=norm.ppf(0.05)"
   ]
  },
  {
   "cell_type": "code",
   "execution_count": 23,
   "id": "1221022e",
   "metadata": {},
   "outputs": [
    {
     "data": {
      "text/plain": [
       "-1.6448536269514729"
      ]
     },
     "execution_count": 23,
     "metadata": {},
     "output_type": "execute_result"
    }
   ],
   "source": [
    "critical_value"
   ]
  },
  {
   "cell_type": "code",
   "execution_count": null,
   "id": "31570499",
   "metadata": {},
   "outputs": [],
   "source": [
    "# if we are not consistent - accept H0 \n",
    "# in this case we DO have evidence that the boys are underweight "
   ]
  }
 ],
 "metadata": {
  "kernelspec": {
   "display_name": "Python 3 (ipykernel)",
   "language": "python",
   "name": "python3"
  },
  "language_info": {
   "codemirror_mode": {
    "name": "ipython",
    "version": 3
   },
   "file_extension": ".py",
   "mimetype": "text/x-python",
   "name": "python",
   "nbconvert_exporter": "python",
   "pygments_lexer": "ipython3",
   "version": "3.7.16"
  },
  "toc": {
   "base_numbering": 1,
   "nav_menu": {},
   "number_sections": true,
   "sideBar": true,
   "skip_h1_title": false,
   "title_cell": "Table of Contents",
   "title_sidebar": "Contents",
   "toc_cell": false,
   "toc_position": {},
   "toc_section_display": true,
   "toc_window_display": false
  },
  "varInspector": {
   "cols": {
    "lenName": 16,
    "lenType": 16,
    "lenVar": 40
   },
   "kernels_config": {
    "python": {
     "delete_cmd_postfix": "",
     "delete_cmd_prefix": "del ",
     "library": "var_list.py",
     "varRefreshCmd": "print(var_dic_list())"
    },
    "r": {
     "delete_cmd_postfix": ") ",
     "delete_cmd_prefix": "rm(",
     "library": "var_list.r",
     "varRefreshCmd": "cat(var_dic_list()) "
    }
   },
   "types_to_exclude": [
    "module",
    "function",
    "builtin_function_or_method",
    "instance",
    "_Feature"
   ],
   "window_display": false
  }
 },
 "nbformat": 4,
 "nbformat_minor": 5
}
