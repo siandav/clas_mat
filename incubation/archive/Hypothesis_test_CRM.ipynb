{
 "cells": [
  {
   "cell_type": "markdown",
   "id": "ba63110c",
   "metadata": {},
   "source": [
    "#### obtain data "
   ]
  },
  {
   "cell_type": "code",
   "execution_count": 15,
   "id": "f8adf017",
   "metadata": {},
   "outputs": [],
   "source": [
    "import pandas as pd \n",
    "from scipy import stats"
   ]
  },
  {
   "cell_type": "code",
   "execution_count": 30,
   "id": "100a0ed4",
   "metadata": {},
   "outputs": [],
   "source": [
    "df= pd.read_csv('CRM Call Center Logs.csv')"
   ]
  },
  {
   "cell_type": "code",
   "execution_count": 31,
   "id": "55599221",
   "metadata": {},
   "outputs": [
    {
     "name": "stdout",
     "output_type": "stream",
     "text": [
      "<class 'pandas.core.frame.DataFrame'>\n",
      "RangeIndex: 3999 entries, 0 to 3998\n",
      "Data columns (total 13 columns):\n",
      " #   Column         Non-Null Count  Dtype  \n",
      "---  ------         --------------  -----  \n",
      " 0   Date received  3999 non-null   object \n",
      " 1   Complaint ID   2504 non-null   object \n",
      " 2   rand client    2504 non-null   object \n",
      " 3   phonefinal     3999 non-null   object \n",
      " 4   vru+line       3015 non-null   object \n",
      " 5   call_id        3015 non-null   float64\n",
      " 6   priority       3015 non-null   float64\n",
      " 7   type           3015 non-null   object \n",
      " 8   outcome        3015 non-null   object \n",
      " 9   server         3015 non-null   object \n",
      " 10  ser_start      3999 non-null   object \n",
      " 11  ser_exit       3999 non-null   object \n",
      " 12  ser_time       3999 non-null   object \n",
      "dtypes: float64(2), object(11)\n",
      "memory usage: 406.3+ KB\n"
     ]
    }
   ],
   "source": [
    "df.info()"
   ]
  },
  {
   "cell_type": "code",
   "execution_count": 32,
   "id": "f29d8aa9",
   "metadata": {},
   "outputs": [
    {
     "data": {
      "text/html": [
       "<div>\n",
       "<style scoped>\n",
       "    .dataframe tbody tr th:only-of-type {\n",
       "        vertical-align: middle;\n",
       "    }\n",
       "\n",
       "    .dataframe tbody tr th {\n",
       "        vertical-align: top;\n",
       "    }\n",
       "\n",
       "    .dataframe thead th {\n",
       "        text-align: right;\n",
       "    }\n",
       "</style>\n",
       "<table border=\"1\" class=\"dataframe\">\n",
       "  <thead>\n",
       "    <tr style=\"text-align: right;\">\n",
       "      <th></th>\n",
       "      <th>Date received</th>\n",
       "      <th>Complaint ID</th>\n",
       "      <th>rand client</th>\n",
       "      <th>phonefinal</th>\n",
       "      <th>vru+line</th>\n",
       "      <th>call_id</th>\n",
       "      <th>priority</th>\n",
       "      <th>type</th>\n",
       "      <th>outcome</th>\n",
       "      <th>server</th>\n",
       "      <th>ser_start</th>\n",
       "      <th>ser_exit</th>\n",
       "      <th>ser_time</th>\n",
       "    </tr>\n",
       "  </thead>\n",
       "  <tbody>\n",
       "    <tr>\n",
       "      <th>0</th>\n",
       "      <td>27/03/2017</td>\n",
       "      <td>CR2406263</td>\n",
       "      <td>C00004587</td>\n",
       "      <td>977-806-9726</td>\n",
       "      <td>AA0103</td>\n",
       "      <td>34536.0</td>\n",
       "      <td>0.0</td>\n",
       "      <td>NW</td>\n",
       "      <td>AGENT</td>\n",
       "      <td>MICHAL</td>\n",
       "      <td>13:34:11</td>\n",
       "      <td>13:40:23</td>\n",
       "      <td>00:06:12</td>\n",
       "    </tr>\n",
       "    <tr>\n",
       "      <th>1</th>\n",
       "      <td>27/03/2017</td>\n",
       "      <td>CR2405641</td>\n",
       "      <td>C00003328</td>\n",
       "      <td>322-598-7152</td>\n",
       "      <td>AA0205</td>\n",
       "      <td>34537.0</td>\n",
       "      <td>0.0</td>\n",
       "      <td>PS</td>\n",
       "      <td>AGENT</td>\n",
       "      <td>TOVA</td>\n",
       "      <td>10:58:22</td>\n",
       "      <td>11:16:10</td>\n",
       "      <td>00:17:48</td>\n",
       "    </tr>\n",
       "    <tr>\n",
       "      <th>2</th>\n",
       "      <td>27/03/2017</td>\n",
       "      <td>CR2405629</td>\n",
       "      <td>C00001685</td>\n",
       "      <td>508-311-5237</td>\n",
       "      <td>AA0110</td>\n",
       "      <td>34538.0</td>\n",
       "      <td>2.0</td>\n",
       "      <td>PS</td>\n",
       "      <td>AGENT</td>\n",
       "      <td>YIFAT</td>\n",
       "      <td>13:00:54</td>\n",
       "      <td>13:13:31</td>\n",
       "      <td>00:12:37</td>\n",
       "    </tr>\n",
       "    <tr>\n",
       "      <th>3</th>\n",
       "      <td>23/03/2017</td>\n",
       "      <td>CR2400594</td>\n",
       "      <td>C00001945</td>\n",
       "      <td>265-394-2727</td>\n",
       "      <td>AA0113</td>\n",
       "      <td>34540.0</td>\n",
       "      <td>2.0</td>\n",
       "      <td>PS</td>\n",
       "      <td>AGENT</td>\n",
       "      <td>AVNI</td>\n",
       "      <td>16:18:21</td>\n",
       "      <td>16:19:40</td>\n",
       "      <td>00:01:19</td>\n",
       "    </tr>\n",
       "    <tr>\n",
       "      <th>4</th>\n",
       "      <td>22/03/2017</td>\n",
       "      <td>CR2399607</td>\n",
       "      <td>C00004303</td>\n",
       "      <td>206-008-0460</td>\n",
       "      <td>AA0102</td>\n",
       "      <td>34541.0</td>\n",
       "      <td>1.0</td>\n",
       "      <td>PS</td>\n",
       "      <td>AGENT</td>\n",
       "      <td>STEREN</td>\n",
       "      <td>14:48:22</td>\n",
       "      <td>14:55:19</td>\n",
       "      <td>00:06:57</td>\n",
       "    </tr>\n",
       "  </tbody>\n",
       "</table>\n",
       "</div>"
      ],
      "text/plain": [
       "  Date received Complaint ID rand client    phonefinal vru+line  call_id  \\\n",
       "0    27/03/2017    CR2406263   C00004587  977-806-9726   AA0103  34536.0   \n",
       "1    27/03/2017    CR2405641   C00003328  322-598-7152   AA0205  34537.0   \n",
       "2    27/03/2017    CR2405629   C00001685  508-311-5237   AA0110  34538.0   \n",
       "3    23/03/2017    CR2400594   C00001945  265-394-2727   AA0113  34540.0   \n",
       "4    22/03/2017    CR2399607   C00004303  206-008-0460   AA0102  34541.0   \n",
       "\n",
       "   priority type outcome  server ser_start  ser_exit  ser_time  \n",
       "0       0.0   NW   AGENT  MICHAL  13:34:11  13:40:23  00:06:12  \n",
       "1       0.0   PS   AGENT    TOVA  10:58:22  11:16:10  00:17:48  \n",
       "2       2.0   PS   AGENT   YIFAT  13:00:54  13:13:31  00:12:37  \n",
       "3       2.0   PS   AGENT    AVNI  16:18:21  16:19:40  00:01:19  \n",
       "4       1.0   PS   AGENT  STEREN  14:48:22  14:55:19  00:06:57  "
      ]
     },
     "execution_count": 32,
     "metadata": {},
     "output_type": "execute_result"
    }
   ],
   "source": [
    "df.head()"
   ]
  },
  {
   "cell_type": "code",
   "execution_count": 33,
   "id": "da60afc9",
   "metadata": {},
   "outputs": [],
   "source": [
    "# pull seconds column for ser_time \n",
    "df[['hours', 'minutes', 'seconds']] = df[\"ser_time\"].apply(lambda x: pd.Series(str(x).split(\":\"))) "
   ]
  },
  {
   "cell_type": "code",
   "execution_count": 64,
   "id": "58eac026",
   "metadata": {},
   "outputs": [
    {
     "data": {
      "text/html": [
       "<div>\n",
       "<style scoped>\n",
       "    .dataframe tbody tr th:only-of-type {\n",
       "        vertical-align: middle;\n",
       "    }\n",
       "\n",
       "    .dataframe tbody tr th {\n",
       "        vertical-align: top;\n",
       "    }\n",
       "\n",
       "    .dataframe thead th {\n",
       "        text-align: right;\n",
       "    }\n",
       "</style>\n",
       "<table border=\"1\" class=\"dataframe\">\n",
       "  <thead>\n",
       "    <tr style=\"text-align: right;\">\n",
       "      <th></th>\n",
       "      <th>Date received</th>\n",
       "      <th>Complaint ID</th>\n",
       "      <th>rand client</th>\n",
       "      <th>phonefinal</th>\n",
       "      <th>vru+line</th>\n",
       "      <th>call_id</th>\n",
       "      <th>priority</th>\n",
       "      <th>type</th>\n",
       "      <th>outcome</th>\n",
       "      <th>server</th>\n",
       "      <th>ser_start</th>\n",
       "      <th>ser_exit</th>\n",
       "      <th>ser_time</th>\n",
       "      <th>hours</th>\n",
       "      <th>minutes</th>\n",
       "      <th>seconds</th>\n",
       "      <th>call_seconds</th>\n",
       "    </tr>\n",
       "  </thead>\n",
       "  <tbody>\n",
       "    <tr>\n",
       "      <th>0</th>\n",
       "      <td>27/03/2017</td>\n",
       "      <td>CR2406263</td>\n",
       "      <td>C00004587</td>\n",
       "      <td>977-806-9726</td>\n",
       "      <td>AA0103</td>\n",
       "      <td>34536.0</td>\n",
       "      <td>0.0</td>\n",
       "      <td>NW</td>\n",
       "      <td>AGENT</td>\n",
       "      <td>MICHAL</td>\n",
       "      <td>13:34:11</td>\n",
       "      <td>13:40:23</td>\n",
       "      <td>00:06:12</td>\n",
       "      <td>00</td>\n",
       "      <td>6.0</td>\n",
       "      <td>12.0</td>\n",
       "      <td>372.0</td>\n",
       "    </tr>\n",
       "    <tr>\n",
       "      <th>1</th>\n",
       "      <td>27/03/2017</td>\n",
       "      <td>CR2405641</td>\n",
       "      <td>C00003328</td>\n",
       "      <td>322-598-7152</td>\n",
       "      <td>AA0205</td>\n",
       "      <td>34537.0</td>\n",
       "      <td>0.0</td>\n",
       "      <td>PS</td>\n",
       "      <td>AGENT</td>\n",
       "      <td>TOVA</td>\n",
       "      <td>10:58:22</td>\n",
       "      <td>11:16:10</td>\n",
       "      <td>00:17:48</td>\n",
       "      <td>00</td>\n",
       "      <td>17.0</td>\n",
       "      <td>48.0</td>\n",
       "      <td>1068.0</td>\n",
       "    </tr>\n",
       "    <tr>\n",
       "      <th>2</th>\n",
       "      <td>27/03/2017</td>\n",
       "      <td>CR2405629</td>\n",
       "      <td>C00001685</td>\n",
       "      <td>508-311-5237</td>\n",
       "      <td>AA0110</td>\n",
       "      <td>34538.0</td>\n",
       "      <td>2.0</td>\n",
       "      <td>PS</td>\n",
       "      <td>AGENT</td>\n",
       "      <td>YIFAT</td>\n",
       "      <td>13:00:54</td>\n",
       "      <td>13:13:31</td>\n",
       "      <td>00:12:37</td>\n",
       "      <td>00</td>\n",
       "      <td>12.0</td>\n",
       "      <td>37.0</td>\n",
       "      <td>757.0</td>\n",
       "    </tr>\n",
       "    <tr>\n",
       "      <th>3</th>\n",
       "      <td>23/03/2017</td>\n",
       "      <td>CR2400594</td>\n",
       "      <td>C00001945</td>\n",
       "      <td>265-394-2727</td>\n",
       "      <td>AA0113</td>\n",
       "      <td>34540.0</td>\n",
       "      <td>2.0</td>\n",
       "      <td>PS</td>\n",
       "      <td>AGENT</td>\n",
       "      <td>AVNI</td>\n",
       "      <td>16:18:21</td>\n",
       "      <td>16:19:40</td>\n",
       "      <td>00:01:19</td>\n",
       "      <td>00</td>\n",
       "      <td>1.0</td>\n",
       "      <td>19.0</td>\n",
       "      <td>79.0</td>\n",
       "    </tr>\n",
       "    <tr>\n",
       "      <th>4</th>\n",
       "      <td>22/03/2017</td>\n",
       "      <td>CR2399607</td>\n",
       "      <td>C00004303</td>\n",
       "      <td>206-008-0460</td>\n",
       "      <td>AA0102</td>\n",
       "      <td>34541.0</td>\n",
       "      <td>1.0</td>\n",
       "      <td>PS</td>\n",
       "      <td>AGENT</td>\n",
       "      <td>STEREN</td>\n",
       "      <td>14:48:22</td>\n",
       "      <td>14:55:19</td>\n",
       "      <td>00:06:57</td>\n",
       "      <td>00</td>\n",
       "      <td>6.0</td>\n",
       "      <td>57.0</td>\n",
       "      <td>417.0</td>\n",
       "    </tr>\n",
       "  </tbody>\n",
       "</table>\n",
       "</div>"
      ],
      "text/plain": [
       "  Date received Complaint ID rand client    phonefinal vru+line  call_id  \\\n",
       "0    27/03/2017    CR2406263   C00004587  977-806-9726   AA0103  34536.0   \n",
       "1    27/03/2017    CR2405641   C00003328  322-598-7152   AA0205  34537.0   \n",
       "2    27/03/2017    CR2405629   C00001685  508-311-5237   AA0110  34538.0   \n",
       "3    23/03/2017    CR2400594   C00001945  265-394-2727   AA0113  34540.0   \n",
       "4    22/03/2017    CR2399607   C00004303  206-008-0460   AA0102  34541.0   \n",
       "\n",
       "   priority type outcome  server ser_start  ser_exit  ser_time hours  minutes  \\\n",
       "0       0.0   NW   AGENT  MICHAL  13:34:11  13:40:23  00:06:12    00      6.0   \n",
       "1       0.0   PS   AGENT    TOVA  10:58:22  11:16:10  00:17:48    00     17.0   \n",
       "2       2.0   PS   AGENT   YIFAT  13:00:54  13:13:31  00:12:37    00     12.0   \n",
       "3       2.0   PS   AGENT    AVNI  16:18:21  16:19:40  00:01:19    00      1.0   \n",
       "4       1.0   PS   AGENT  STEREN  14:48:22  14:55:19  00:06:57    00      6.0   \n",
       "\n",
       "   seconds  call_seconds  \n",
       "0     12.0         372.0  \n",
       "1     48.0        1068.0  \n",
       "2     37.0         757.0  \n",
       "3     19.0          79.0  \n",
       "4     57.0         417.0  "
      ]
     },
     "execution_count": 64,
     "metadata": {},
     "output_type": "execute_result"
    }
   ],
   "source": [
    "df.head()"
   ]
  },
  {
   "cell_type": "code",
   "execution_count": 41,
   "id": "74a353f4",
   "metadata": {},
   "outputs": [
    {
     "name": "stdout",
     "output_type": "stream",
     "text": [
      "<class 'pandas.core.frame.DataFrame'>\n",
      "RangeIndex: 3999 entries, 0 to 3998\n",
      "Data columns (total 17 columns):\n",
      " #   Column         Non-Null Count  Dtype  \n",
      "---  ------         --------------  -----  \n",
      " 0   Date received  3999 non-null   object \n",
      " 1   Complaint ID   2504 non-null   object \n",
      " 2   rand client    2504 non-null   object \n",
      " 3   phonefinal     3999 non-null   object \n",
      " 4   vru+line       3015 non-null   object \n",
      " 5   call_id        3015 non-null   float64\n",
      " 6   priority       3015 non-null   float64\n",
      " 7   type           3015 non-null   object \n",
      " 8   outcome        3015 non-null   object \n",
      " 9   server         3015 non-null   object \n",
      " 10  ser_start      3999 non-null   object \n",
      " 11  ser_exit       3999 non-null   object \n",
      " 12  ser_time       3999 non-null   object \n",
      " 13  hours          3999 non-null   object \n",
      " 14  minutes        3999 non-null   float64\n",
      " 15  seconds        3999 non-null   float64\n",
      " 16  call_seconds   3999 non-null   float64\n",
      "dtypes: float64(5), object(12)\n",
      "memory usage: 531.2+ KB\n"
     ]
    }
   ],
   "source": [
    "df.info()"
   ]
  },
  {
   "cell_type": "code",
   "execution_count": 37,
   "id": "31eff045",
   "metadata": {},
   "outputs": [],
   "source": [
    " df['minutes']= df['minutes'].astype(float).fillna(0.0)"
   ]
  },
  {
   "cell_type": "code",
   "execution_count": 38,
   "id": "18862745",
   "metadata": {},
   "outputs": [],
   "source": [
    " df['seconds']= df['seconds'].astype(float).fillna(0.0)"
   ]
  },
  {
   "cell_type": "code",
   "execution_count": 40,
   "id": "e1bae410",
   "metadata": {},
   "outputs": [],
   "source": [
    "df['call_seconds']= (df['minutes']*60)+df['seconds']"
   ]
  },
  {
   "cell_type": "code",
   "execution_count": 29,
   "id": "72664682",
   "metadata": {},
   "outputs": [
    {
     "data": {
      "text/html": [
       "<div>\n",
       "<style scoped>\n",
       "    .dataframe tbody tr th:only-of-type {\n",
       "        vertical-align: middle;\n",
       "    }\n",
       "\n",
       "    .dataframe tbody tr th {\n",
       "        vertical-align: top;\n",
       "    }\n",
       "\n",
       "    .dataframe thead th {\n",
       "        text-align: right;\n",
       "    }\n",
       "</style>\n",
       "<table border=\"1\" class=\"dataframe\">\n",
       "  <thead>\n",
       "    <tr style=\"text-align: right;\">\n",
       "      <th></th>\n",
       "      <th>Date received</th>\n",
       "      <th>Complaint ID</th>\n",
       "      <th>rand client</th>\n",
       "      <th>phonefinal</th>\n",
       "      <th>vru+line</th>\n",
       "      <th>call_id</th>\n",
       "      <th>priority</th>\n",
       "      <th>type</th>\n",
       "      <th>outcome</th>\n",
       "      <th>server</th>\n",
       "      <th>ser_start</th>\n",
       "      <th>ser_exit</th>\n",
       "      <th>ser_time</th>\n",
       "      <th>hours</th>\n",
       "      <th>minutes</th>\n",
       "      <th>seconds</th>\n",
       "      <th>call_seconds</th>\n",
       "    </tr>\n",
       "  </thead>\n",
       "  <tbody>\n",
       "    <tr>\n",
       "      <th>0</th>\n",
       "      <td>27/03/2017</td>\n",
       "      <td>CR2406263</td>\n",
       "      <td>C00004587</td>\n",
       "      <td>977-806-9726</td>\n",
       "      <td>AA0103</td>\n",
       "      <td>34536.0</td>\n",
       "      <td>0.0</td>\n",
       "      <td>NW</td>\n",
       "      <td>AGENT</td>\n",
       "      <td>MICHAL</td>\n",
       "      <td>13:34:11</td>\n",
       "      <td>13:40:23</td>\n",
       "      <td>00:06:12</td>\n",
       "      <td>00</td>\n",
       "      <td>06</td>\n",
       "      <td>12</td>\n",
       "      <td>0606060606060606060606060606060606060606060606...</td>\n",
       "    </tr>\n",
       "    <tr>\n",
       "      <th>1</th>\n",
       "      <td>27/03/2017</td>\n",
       "      <td>CR2405641</td>\n",
       "      <td>C00003328</td>\n",
       "      <td>322-598-7152</td>\n",
       "      <td>AA0205</td>\n",
       "      <td>34537.0</td>\n",
       "      <td>0.0</td>\n",
       "      <td>PS</td>\n",
       "      <td>AGENT</td>\n",
       "      <td>TOVA</td>\n",
       "      <td>10:58:22</td>\n",
       "      <td>11:16:10</td>\n",
       "      <td>00:17:48</td>\n",
       "      <td>00</td>\n",
       "      <td>17</td>\n",
       "      <td>48</td>\n",
       "      <td>1717171717171717171717171717171717171717171717...</td>\n",
       "    </tr>\n",
       "    <tr>\n",
       "      <th>2</th>\n",
       "      <td>27/03/2017</td>\n",
       "      <td>CR2405629</td>\n",
       "      <td>C00001685</td>\n",
       "      <td>508-311-5237</td>\n",
       "      <td>AA0110</td>\n",
       "      <td>34538.0</td>\n",
       "      <td>2.0</td>\n",
       "      <td>PS</td>\n",
       "      <td>AGENT</td>\n",
       "      <td>YIFAT</td>\n",
       "      <td>13:00:54</td>\n",
       "      <td>13:13:31</td>\n",
       "      <td>00:12:37</td>\n",
       "      <td>00</td>\n",
       "      <td>12</td>\n",
       "      <td>37</td>\n",
       "      <td>1212121212121212121212121212121212121212121212...</td>\n",
       "    </tr>\n",
       "    <tr>\n",
       "      <th>3</th>\n",
       "      <td>23/03/2017</td>\n",
       "      <td>CR2400594</td>\n",
       "      <td>C00001945</td>\n",
       "      <td>265-394-2727</td>\n",
       "      <td>AA0113</td>\n",
       "      <td>34540.0</td>\n",
       "      <td>2.0</td>\n",
       "      <td>PS</td>\n",
       "      <td>AGENT</td>\n",
       "      <td>AVNI</td>\n",
       "      <td>16:18:21</td>\n",
       "      <td>16:19:40</td>\n",
       "      <td>00:01:19</td>\n",
       "      <td>00</td>\n",
       "      <td>01</td>\n",
       "      <td>19</td>\n",
       "      <td>0101010101010101010101010101010101010101010101...</td>\n",
       "    </tr>\n",
       "    <tr>\n",
       "      <th>4</th>\n",
       "      <td>22/03/2017</td>\n",
       "      <td>CR2399607</td>\n",
       "      <td>C00004303</td>\n",
       "      <td>206-008-0460</td>\n",
       "      <td>AA0102</td>\n",
       "      <td>34541.0</td>\n",
       "      <td>1.0</td>\n",
       "      <td>PS</td>\n",
       "      <td>AGENT</td>\n",
       "      <td>STEREN</td>\n",
       "      <td>14:48:22</td>\n",
       "      <td>14:55:19</td>\n",
       "      <td>00:06:57</td>\n",
       "      <td>00</td>\n",
       "      <td>06</td>\n",
       "      <td>57</td>\n",
       "      <td>0606060606060606060606060606060606060606060606...</td>\n",
       "    </tr>\n",
       "  </tbody>\n",
       "</table>\n",
       "</div>"
      ],
      "text/plain": [
       "  Date received Complaint ID rand client    phonefinal vru+line  call_id  \\\n",
       "0    27/03/2017    CR2406263   C00004587  977-806-9726   AA0103  34536.0   \n",
       "1    27/03/2017    CR2405641   C00003328  322-598-7152   AA0205  34537.0   \n",
       "2    27/03/2017    CR2405629   C00001685  508-311-5237   AA0110  34538.0   \n",
       "3    23/03/2017    CR2400594   C00001945  265-394-2727   AA0113  34540.0   \n",
       "4    22/03/2017    CR2399607   C00004303  206-008-0460   AA0102  34541.0   \n",
       "\n",
       "   priority type outcome  server ser_start  ser_exit  ser_time hours minutes  \\\n",
       "0       0.0   NW   AGENT  MICHAL  13:34:11  13:40:23  00:06:12    00      06   \n",
       "1       0.0   PS   AGENT    TOVA  10:58:22  11:16:10  00:17:48    00      17   \n",
       "2       2.0   PS   AGENT   YIFAT  13:00:54  13:13:31  00:12:37    00      12   \n",
       "3       2.0   PS   AGENT    AVNI  16:18:21  16:19:40  00:01:19    00      01   \n",
       "4       1.0   PS   AGENT  STEREN  14:48:22  14:55:19  00:06:57    00      06   \n",
       "\n",
       "  seconds                                       call_seconds  \n",
       "0      12  0606060606060606060606060606060606060606060606...  \n",
       "1      48  1717171717171717171717171717171717171717171717...  \n",
       "2      37  1212121212121212121212121212121212121212121212...  \n",
       "3      19  0101010101010101010101010101010101010101010101...  \n",
       "4      57  0606060606060606060606060606060606060606060606...  "
      ]
     },
     "execution_count": 29,
     "metadata": {},
     "output_type": "execute_result"
    }
   ],
   "source": [
    "df.head()"
   ]
  },
  {
   "cell_type": "markdown",
   "id": "8d4f4eb5",
   "metadata": {},
   "source": [
    "#### remove phantom and hangup calls"
   ]
  },
  {
   "cell_type": "code",
   "execution_count": 44,
   "id": "45fd6c2a",
   "metadata": {},
   "outputs": [
    {
     "data": {
      "text/plain": [
       "array(['AGENT', 'HANG', 'PHANTOM', nan], dtype=object)"
      ]
     },
     "execution_count": 44,
     "metadata": {},
     "output_type": "execute_result"
    }
   ],
   "source": [
    "df.outcome.unique()"
   ]
  },
  {
   "cell_type": "code",
   "execution_count": 45,
   "id": "9bf6a587",
   "metadata": {},
   "outputs": [],
   "source": [
    "agentdf=df[df['outcome'] == 'AGENT'] "
   ]
  },
  {
   "cell_type": "code",
   "execution_count": 46,
   "id": "a9f1a982",
   "metadata": {},
   "outputs": [
    {
     "name": "stdout",
     "output_type": "stream",
     "text": [
      "<class 'pandas.core.frame.DataFrame'>\n",
      "Int64Index: 2580 entries, 0 to 3014\n",
      "Data columns (total 17 columns):\n",
      " #   Column         Non-Null Count  Dtype  \n",
      "---  ------         --------------  -----  \n",
      " 0   Date received  2580 non-null   object \n",
      " 1   Complaint ID   2504 non-null   object \n",
      " 2   rand client    2504 non-null   object \n",
      " 3   phonefinal     2580 non-null   object \n",
      " 4   vru+line       2580 non-null   object \n",
      " 5   call_id        2580 non-null   float64\n",
      " 6   priority       2580 non-null   float64\n",
      " 7   type           2580 non-null   object \n",
      " 8   outcome        2580 non-null   object \n",
      " 9   server         2580 non-null   object \n",
      " 10  ser_start      2580 non-null   object \n",
      " 11  ser_exit       2580 non-null   object \n",
      " 12  ser_time       2580 non-null   object \n",
      " 13  hours          2580 non-null   object \n",
      " 14  minutes        2580 non-null   float64\n",
      " 15  seconds        2580 non-null   float64\n",
      " 16  call_seconds   2580 non-null   float64\n",
      "dtypes: float64(5), object(12)\n",
      "memory usage: 362.8+ KB\n"
     ]
    }
   ],
   "source": [
    "agentdf.info()"
   ]
  },
  {
   "cell_type": "markdown",
   "id": "2645bdff",
   "metadata": {},
   "source": [
    "### HYPOTHESIS TESTS\n",
    "##### Qu 1 - were there significant differences between call times depending on the priority  (0,1,2)? "
   ]
  },
  {
   "cell_type": "code",
   "execution_count": 47,
   "id": "c88de794",
   "metadata": {},
   "outputs": [
    {
     "data": {
      "text/plain": [
       "array([0., 2., 1.])"
      ]
     },
     "execution_count": 47,
     "metadata": {},
     "output_type": "execute_result"
    }
   ],
   "source": [
    "agentdf['priority'].unique()"
   ]
  },
  {
   "cell_type": "code",
   "execution_count": 48,
   "id": "d71db4ea",
   "metadata": {},
   "outputs": [],
   "source": [
    "prioritytime=agentdf[[\"priority\",\"call_seconds\"]]"
   ]
  },
  {
   "cell_type": "code",
   "execution_count": 49,
   "id": "bf87ae04",
   "metadata": {},
   "outputs": [
    {
     "name": "stdout",
     "output_type": "stream",
     "text": [
      "<class 'pandas.core.frame.DataFrame'>\n",
      "Int64Index: 2580 entries, 0 to 3014\n",
      "Data columns (total 2 columns):\n",
      " #   Column        Non-Null Count  Dtype  \n",
      "---  ------        --------------  -----  \n",
      " 0   priority      2580 non-null   float64\n",
      " 1   call_seconds  2580 non-null   float64\n",
      "dtypes: float64(2)\n",
      "memory usage: 60.5 KB\n"
     ]
    }
   ],
   "source": [
    "prioritytime.info()"
   ]
  },
  {
   "cell_type": "code",
   "execution_count": 50,
   "id": "74f3e022",
   "metadata": {},
   "outputs": [
    {
     "data": {
      "text/html": [
       "<div>\n",
       "<style scoped>\n",
       "    .dataframe tbody tr th:only-of-type {\n",
       "        vertical-align: middle;\n",
       "    }\n",
       "\n",
       "    .dataframe tbody tr th {\n",
       "        vertical-align: top;\n",
       "    }\n",
       "\n",
       "    .dataframe thead th {\n",
       "        text-align: right;\n",
       "    }\n",
       "</style>\n",
       "<table border=\"1\" class=\"dataframe\">\n",
       "  <thead>\n",
       "    <tr style=\"text-align: right;\">\n",
       "      <th></th>\n",
       "      <th>priority</th>\n",
       "      <th>call_seconds</th>\n",
       "    </tr>\n",
       "  </thead>\n",
       "  <tbody>\n",
       "    <tr>\n",
       "      <th>0</th>\n",
       "      <td>0.0</td>\n",
       "      <td>372.0</td>\n",
       "    </tr>\n",
       "    <tr>\n",
       "      <th>1</th>\n",
       "      <td>0.0</td>\n",
       "      <td>1068.0</td>\n",
       "    </tr>\n",
       "    <tr>\n",
       "      <th>2</th>\n",
       "      <td>2.0</td>\n",
       "      <td>757.0</td>\n",
       "    </tr>\n",
       "    <tr>\n",
       "      <th>3</th>\n",
       "      <td>2.0</td>\n",
       "      <td>79.0</td>\n",
       "    </tr>\n",
       "    <tr>\n",
       "      <th>4</th>\n",
       "      <td>1.0</td>\n",
       "      <td>417.0</td>\n",
       "    </tr>\n",
       "  </tbody>\n",
       "</table>\n",
       "</div>"
      ],
      "text/plain": [
       "   priority  call_seconds\n",
       "0       0.0         372.0\n",
       "1       0.0        1068.0\n",
       "2       2.0         757.0\n",
       "3       2.0          79.0\n",
       "4       1.0         417.0"
      ]
     },
     "execution_count": 50,
     "metadata": {},
     "output_type": "execute_result"
    }
   ],
   "source": [
    "prioritytime.head()"
   ]
  },
  {
   "cell_type": "code",
   "execution_count": 53,
   "id": "491f6c42",
   "metadata": {},
   "outputs": [
    {
     "data": {
      "text/html": [
       "<div>\n",
       "<style scoped>\n",
       "    .dataframe tbody tr th:only-of-type {\n",
       "        vertical-align: middle;\n",
       "    }\n",
       "\n",
       "    .dataframe tbody tr th {\n",
       "        vertical-align: top;\n",
       "    }\n",
       "\n",
       "    .dataframe thead th {\n",
       "        text-align: right;\n",
       "    }\n",
       "</style>\n",
       "<table border=\"1\" class=\"dataframe\">\n",
       "  <thead>\n",
       "    <tr style=\"text-align: right;\">\n",
       "      <th></th>\n",
       "      <th>call_seconds</th>\n",
       "    </tr>\n",
       "    <tr>\n",
       "      <th>priority</th>\n",
       "      <th></th>\n",
       "    </tr>\n",
       "  </thead>\n",
       "  <tbody>\n",
       "    <tr>\n",
       "      <th>0.0</th>\n",
       "      <td>668.169367</td>\n",
       "    </tr>\n",
       "    <tr>\n",
       "      <th>1.0</th>\n",
       "      <td>770.356968</td>\n",
       "    </tr>\n",
       "    <tr>\n",
       "      <th>2.0</th>\n",
       "      <td>706.389914</td>\n",
       "    </tr>\n",
       "  </tbody>\n",
       "</table>\n",
       "</div>"
      ],
      "text/plain": [
       "          call_seconds\n",
       "priority              \n",
       "0.0         668.169367\n",
       "1.0         770.356968\n",
       "2.0         706.389914"
      ]
     },
     "execution_count": 53,
     "metadata": {},
     "output_type": "execute_result"
    }
   ],
   "source": [
    "prioritytime.groupby('priority').mean()"
   ]
  },
  {
   "cell_type": "code",
   "execution_count": 54,
   "id": "41fd22cb",
   "metadata": {},
   "outputs": [
    {
     "data": {
      "text/plain": [
       "priority\n",
       "0.0    385.398794\n",
       "1.0    421.925656\n",
       "2.0    404.426401\n",
       "Name: call_seconds, dtype: float64"
      ]
     },
     "execution_count": 54,
     "metadata": {},
     "output_type": "execute_result"
    }
   ],
   "source": [
    "prioritytime.groupby(['priority'])['call_seconds'].std()"
   ]
  },
  {
   "cell_type": "code",
   "execution_count": 55,
   "id": "2a052764",
   "metadata": {},
   "outputs": [
    {
     "data": {
      "text/plain": [
       "priority\n",
       "0.0    1358\n",
       "1.0     409\n",
       "2.0     813\n",
       "Name: call_seconds, dtype: int64"
      ]
     },
     "execution_count": 55,
     "metadata": {},
     "output_type": "execute_result"
    }
   ],
   "source": [
    "prioritytime.groupby(['priority'])['call_seconds'].count()"
   ]
  },
  {
   "cell_type": "code",
   "execution_count": 63,
   "id": "5482a1b1",
   "metadata": {},
   "outputs": [],
   "source": [
    "import scipy.stats as stats"
   ]
  },
  {
   "cell_type": "code",
   "execution_count": 65,
   "id": "cef8b37f",
   "metadata": {},
   "outputs": [],
   "source": [
    "priority1=df[df['priority'] == 1] \n",
    "priority2=df[df['priority'] == 2] "
   ]
  },
  {
   "cell_type": "code",
   "execution_count": 67,
   "id": "7ece4b37",
   "metadata": {},
   "outputs": [],
   "source": [
    "group1 = priority1.call_seconds\n",
    "group2 = priority2.call_seconds"
   ]
  },
  {
   "cell_type": "code",
   "execution_count": 70,
   "id": "04d14821",
   "metadata": {},
   "outputs": [
    {
     "data": {
      "text/plain": [
       "2        757.0\n",
       "3         79.0\n",
       "13       903.0\n",
       "15       768.0\n",
       "16       872.0\n",
       "         ...  \n",
       "2979     929.0\n",
       "2983     950.0\n",
       "2991    1174.0\n",
       "2993     143.0\n",
       "2994    1196.0\n",
       "Name: call_seconds, Length: 875, dtype: float64"
      ]
     },
     "execution_count": 70,
     "metadata": {},
     "output_type": "execute_result"
    }
   ],
   "source": [
    "group2"
   ]
  },
  {
   "cell_type": "code",
   "execution_count": 71,
   "id": "9394ffe8",
   "metadata": {},
   "outputs": [
    {
     "data": {
      "text/plain": [
       "4       417.0\n",
       "11      222.0\n",
       "17      913.0\n",
       "34      121.0\n",
       "38      345.0\n",
       "        ...  \n",
       "2967     76.0\n",
       "2990    586.0\n",
       "3002    710.0\n",
       "3007    518.0\n",
       "3013    665.0\n",
       "Name: call_seconds, Length: 484, dtype: float64"
      ]
     },
     "execution_count": 71,
     "metadata": {},
     "output_type": "execute_result"
    }
   ],
   "source": [
    "group1"
   ]
  },
  {
   "cell_type": "code",
   "execution_count": 72,
   "id": "14ef5b6e",
   "metadata": {},
   "outputs": [
    {
     "data": {
      "text/html": [
       "<div>\n",
       "<style scoped>\n",
       "    .dataframe tbody tr th:only-of-type {\n",
       "        vertical-align: middle;\n",
       "    }\n",
       "\n",
       "    .dataframe tbody tr th {\n",
       "        vertical-align: top;\n",
       "    }\n",
       "\n",
       "    .dataframe thead th {\n",
       "        text-align: right;\n",
       "    }\n",
       "</style>\n",
       "<table border=\"1\" class=\"dataframe\">\n",
       "  <thead>\n",
       "    <tr style=\"text-align: right;\">\n",
       "      <th></th>\n",
       "      <th>priority</th>\n",
       "      <th>call_seconds</th>\n",
       "    </tr>\n",
       "  </thead>\n",
       "  <tbody>\n",
       "    <tr>\n",
       "      <th>0</th>\n",
       "      <td>0.0</td>\n",
       "      <td>372.0</td>\n",
       "    </tr>\n",
       "    <tr>\n",
       "      <th>1</th>\n",
       "      <td>0.0</td>\n",
       "      <td>1068.0</td>\n",
       "    </tr>\n",
       "    <tr>\n",
       "      <th>2</th>\n",
       "      <td>2.0</td>\n",
       "      <td>757.0</td>\n",
       "    </tr>\n",
       "    <tr>\n",
       "      <th>3</th>\n",
       "      <td>2.0</td>\n",
       "      <td>79.0</td>\n",
       "    </tr>\n",
       "    <tr>\n",
       "      <th>4</th>\n",
       "      <td>1.0</td>\n",
       "      <td>417.0</td>\n",
       "    </tr>\n",
       "  </tbody>\n",
       "</table>\n",
       "</div>"
      ],
      "text/plain": [
       "   priority  call_seconds\n",
       "0       0.0         372.0\n",
       "1       0.0        1068.0\n",
       "2       2.0         757.0\n",
       "3       2.0          79.0\n",
       "4       1.0         417.0"
      ]
     },
     "execution_count": 72,
     "metadata": {},
     "output_type": "execute_result"
    }
   ],
   "source": [
    "prioritytime.head()"
   ]
  },
  {
   "cell_type": "code",
   "execution_count": 74,
   "id": "98c93d8a",
   "metadata": {},
   "outputs": [],
   "source": [
    "import numpy as np"
   ]
  },
  {
   "cell_type": "code",
   "execution_count": 75,
   "id": "72b8ec28",
   "metadata": {},
   "outputs": [
    {
     "name": "stdout",
     "output_type": "stream",
     "text": [
      "227155.16597226966 184336.59996734693\n"
     ]
    }
   ],
   "source": [
    "#find variance for each group\n",
    "print(np.var(group1), np.var(group2))"
   ]
  },
  {
   "cell_type": "code",
   "execution_count": 76,
   "id": "493926eb",
   "metadata": {},
   "outputs": [
    {
     "data": {
      "text/plain": [
       "1.2322877788386424"
      ]
     },
     "execution_count": 76,
     "metadata": {},
     "output_type": "execute_result"
    }
   ],
   "source": [
    "#The ratio of the larger sample variance to the smaller sample variance is\n",
    "227155/184336\n",
    "#which is less than 4. This means we can assume that the population variances are equal."
   ]
  },
  {
   "cell_type": "code",
   "execution_count": 77,
   "id": "447f6009",
   "metadata": {},
   "outputs": [
    {
     "data": {
      "text/plain": [
       "Ttest_indResult(statistic=-0.20148808328296045, pvalue=0.840347144339789)"
      ]
     },
     "execution_count": 77,
     "metadata": {},
     "output_type": "execute_result"
    }
   ],
   "source": [
    "#perform two sample t-test with equal variances\n",
    "stats.ttest_ind(a=group1, b=group2, equal_var=True)\n",
    "#https://www.statology.org/two-sample-t-test-python/ "
   ]
  },
  {
   "cell_type": "markdown",
   "id": "14eaa640",
   "metadata": {},
   "source": [
    "https://www.graphpad.com/quickcalcs/ttest1/?format=SD"
   ]
  },
  {
   "cell_type": "code",
   "execution_count": null,
   "id": "32d99478",
   "metadata": {},
   "outputs": [],
   "source": []
  },
  {
   "cell_type": "markdown",
   "id": "4c2a6305",
   "metadata": {},
   "source": [
    "##### Qu 2 - were there significant differences between call times depending on the server? "
   ]
  },
  {
   "cell_type": "code",
   "execution_count": 19,
   "id": "01b55392",
   "metadata": {},
   "outputs": [
    {
     "data": {
      "text/plain": [
       "array(['MICHAL', 'TOVA', 'YIFAT', 'AVNI', 'STEREN', 'ANAT', 'MIKI',\n",
       "       'DORIT', 'MORIAH', 'GILI', 'KAZAV', 'YITZ', 'DARMON', 'SHLOMO',\n",
       "       'AVIDAN', 'ZOHARI', 'NO_SERVER', 'SHARON', 'IDIT', 'BENSION',\n",
       "       'GELBER', 'ELI', 'BASCH', 'NAAMA', 'PINHAS'], dtype=object)"
      ]
     },
     "execution_count": 19,
     "metadata": {},
     "output_type": "execute_result"
    }
   ],
   "source": [
    "agentdf['server'].unique()"
   ]
  },
  {
   "cell_type": "code",
   "execution_count": 20,
   "id": "a2443658",
   "metadata": {},
   "outputs": [],
   "source": [
    "agentstime=agentdf[[\"server\", \"ser_time\"]]"
   ]
  },
  {
   "cell_type": "code",
   "execution_count": 21,
   "id": "1166cf03",
   "metadata": {},
   "outputs": [
    {
     "name": "stdout",
     "output_type": "stream",
     "text": [
      "<class 'pandas.core.frame.DataFrame'>\n",
      "Int64Index: 2580 entries, 0 to 3014\n",
      "Data columns (total 2 columns):\n",
      " #   Column    Non-Null Count  Dtype \n",
      "---  ------    --------------  ----- \n",
      " 0   server    2580 non-null   object\n",
      " 1   ser_time  2580 non-null   object\n",
      "dtypes: object(2)\n",
      "memory usage: 60.5+ KB\n"
     ]
    }
   ],
   "source": [
    "agentstime.info()"
   ]
  },
  {
   "cell_type": "code",
   "execution_count": null,
   "id": "ce47724d",
   "metadata": {},
   "outputs": [],
   "source": []
  }
 ],
 "metadata": {
  "kernelspec": {
   "display_name": "Python 3 (ipykernel)",
   "language": "python",
   "name": "python3"
  },
  "language_info": {
   "codemirror_mode": {
    "name": "ipython",
    "version": 3
   },
   "file_extension": ".py",
   "mimetype": "text/x-python",
   "name": "python",
   "nbconvert_exporter": "python",
   "pygments_lexer": "ipython3",
   "version": "3.7.16"
  }
 },
 "nbformat": 4,
 "nbformat_minor": 5
}
